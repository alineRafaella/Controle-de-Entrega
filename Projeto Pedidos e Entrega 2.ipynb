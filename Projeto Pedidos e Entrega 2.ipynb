{
 "cells": [
  {
   "cell_type": "markdown",
   "metadata": {},
   "source": [
    "Projeto Controle de Entrega "
   ]
  },
  {
   "cell_type": "markdown",
   "metadata": {},
   "source": [
    "Objetivo: Desenvolver um sistema centralizado para monitorar, gerenciar e analisar entregas, ajudando empresas a melhorar sua logística, melhorar a experiência do cliente e reduzir custos operacionais."
   ]
  },
  {
   "cell_type": "code",
   "execution_count": 1,
   "metadata": {},
   "outputs": [],
   "source": [
    "# Importando bibliotecas para modelagem de dados\n",
    "import pandas as pd\n",
    "import numpy as np"
   ]
  },
  {
   "cell_type": "markdown",
   "metadata": {},
   "source": [
    "Carregando as bases de dados e verificando suas informações"
   ]
  },
  {
   "cell_type": "code",
   "execution_count": 2,
   "metadata": {},
   "outputs": [
    {
     "data": {
      "text/html": [
       "<div>\n",
       "<style scoped>\n",
       "    .dataframe tbody tr th:only-of-type {\n",
       "        vertical-align: middle;\n",
       "    }\n",
       "\n",
       "    .dataframe tbody tr th {\n",
       "        vertical-align: top;\n",
       "    }\n",
       "\n",
       "    .dataframe thead th {\n",
       "        text-align: right;\n",
       "    }\n",
       "</style>\n",
       "<table border=\"1\" class=\"dataframe\">\n",
       "  <thead>\n",
       "    <tr style=\"text-align: right;\">\n",
       "      <th></th>\n",
       "      <th>Entrega_ID</th>\n",
       "      <th>Pedido_ID</th>\n",
       "      <th>Data_Coleta</th>\n",
       "      <th>Data_Entrega</th>\n",
       "      <th>Veiculo</th>\n",
       "      <th>Motorista_ID</th>\n",
       "      <th>Atraso_h</th>\n",
       "    </tr>\n",
       "  </thead>\n",
       "  <tbody>\n",
       "    <tr>\n",
       "      <th>0</th>\n",
       "      <td>501</td>\n",
       "      <td>1</td>\n",
       "      <td>01/11/2022</td>\n",
       "      <td>02/11/2022</td>\n",
       "      <td>Van</td>\n",
       "      <td>205</td>\n",
       "      <td>0</td>\n",
       "    </tr>\n",
       "    <tr>\n",
       "      <th>1</th>\n",
       "      <td>502</td>\n",
       "      <td>2</td>\n",
       "      <td>02/11/2022</td>\n",
       "      <td>03/11/2022</td>\n",
       "      <td>Caminhão</td>\n",
       "      <td>206</td>\n",
       "      <td>3</td>\n",
       "    </tr>\n",
       "  </tbody>\n",
       "</table>\n",
       "</div>"
      ],
      "text/plain": [
       "   Entrega_ID  Pedido_ID Data_Coleta Data_Entrega   Veiculo  Motorista_ID  \\\n",
       "0         501          1  01/11/2022   02/11/2022       Van           205   \n",
       "1         502          2  02/11/2022   03/11/2022  Caminhão           206   \n",
       "\n",
       "   Atraso_h  \n",
       "0         0  \n",
       "1         3  "
      ]
     },
     "execution_count": 2,
     "metadata": {},
     "output_type": "execute_result"
    }
   ],
   "source": [
    "# Abrir base de dados\n",
    "historico_entregas = pd.read_excel(r'C:\\\\Backup 2024 02 07\\\\Usuário\\Desktop\\\\portifolio\\subir github\\\\Refazendo projetos\\\\Pedidos de entrega\\\\Pedidos de entrega Excel\\\\historico_entregas_atualizados.xlsx')\n",
    "\n",
    "# Exibir 2 linhas\n",
    "historico_entregas.head(2)"
   ]
  },
  {
   "cell_type": "code",
   "execution_count": 3,
   "metadata": {},
   "outputs": [
    {
     "data": {
      "text/plain": [
       "(100, 7)"
      ]
     },
     "execution_count": 3,
     "metadata": {},
     "output_type": "execute_result"
    }
   ],
   "source": [
    "# Verificando tamanho e linhas\n",
    "historico_entregas.shape"
   ]
  },
  {
   "cell_type": "code",
   "execution_count": 4,
   "metadata": {},
   "outputs": [
    {
     "data": {
      "text/plain": [
       "Entrega_ID      100\n",
       "Pedido_ID       100\n",
       "Data_Coleta     100\n",
       "Data_Entrega    100\n",
       "Veiculo         100\n",
       "Motorista_ID    100\n",
       "Atraso_h        100\n",
       "dtype: int64"
      ]
     },
     "execution_count": 4,
     "metadata": {},
     "output_type": "execute_result"
    }
   ],
   "source": [
    "# Verificando quantidade duplicada\n",
    "historico_entregas.drop_duplicates().count()"
   ]
  },
  {
   "cell_type": "code",
   "execution_count": 5,
   "metadata": {},
   "outputs": [
    {
     "data": {
      "text/plain": [
       "Entrega_ID      100\n",
       "Pedido_ID       100\n",
       "Data_Coleta     100\n",
       "Data_Entrega    100\n",
       "Veiculo         100\n",
       "Motorista_ID    100\n",
       "Atraso_h        100\n",
       "dtype: int64"
      ]
     },
     "execution_count": 5,
     "metadata": {},
     "output_type": "execute_result"
    }
   ],
   "source": [
    "# Verificando valores faltantes\n",
    "historico_entregas.isnull().count()"
   ]
  },
  {
   "cell_type": "code",
   "execution_count": 6,
   "metadata": {},
   "outputs": [
    {
     "data": {
      "text/html": [
       "<div>\n",
       "<style scoped>\n",
       "    .dataframe tbody tr th:only-of-type {\n",
       "        vertical-align: middle;\n",
       "    }\n",
       "\n",
       "    .dataframe tbody tr th {\n",
       "        vertical-align: top;\n",
       "    }\n",
       "\n",
       "    .dataframe thead th {\n",
       "        text-align: right;\n",
       "    }\n",
       "</style>\n",
       "<table border=\"1\" class=\"dataframe\">\n",
       "  <thead>\n",
       "    <tr style=\"text-align: right;\">\n",
       "      <th></th>\n",
       "      <th>Origem_Local</th>\n",
       "      <th>Destino_Local</th>\n",
       "      <th>Distancia_km</th>\n",
       "      <th>Tempo_Estimado_h</th>\n",
       "      <th>Taxa_Base</th>\n",
       "      <th>Taxa_Km</th>\n",
       "      <th>Taxa_Volume</th>\n",
       "    </tr>\n",
       "  </thead>\n",
       "  <tbody>\n",
       "    <tr>\n",
       "      <th>0</th>\n",
       "      <td>São Paulo - SP</td>\n",
       "      <td>São Paulo - SP</td>\n",
       "      <td>20</td>\n",
       "      <td>1</td>\n",
       "      <td>10</td>\n",
       "      <td>0.5</td>\n",
       "      <td>2.0</td>\n",
       "    </tr>\n",
       "    <tr>\n",
       "      <th>1</th>\n",
       "      <td>Rio de Janeiro - RJ</td>\n",
       "      <td>Rio de Janeiro - RJ</td>\n",
       "      <td>450</td>\n",
       "      <td>6</td>\n",
       "      <td>50</td>\n",
       "      <td>0.7</td>\n",
       "      <td>3.0</td>\n",
       "    </tr>\n",
       "  </tbody>\n",
       "</table>\n",
       "</div>"
      ],
      "text/plain": [
       "          Origem_Local        Destino_Local  Distancia_km  Tempo_Estimado_h  \\\n",
       "0       São Paulo - SP       São Paulo - SP            20                 1   \n",
       "1  Rio de Janeiro - RJ  Rio de Janeiro - RJ           450                 6   \n",
       "\n",
       "   Taxa_Base  Taxa_Km  Taxa_Volume  \n",
       "0         10      0.5          2.0  \n",
       "1         50      0.7          3.0  "
      ]
     },
     "execution_count": 6,
     "metadata": {},
     "output_type": "execute_result"
    }
   ],
   "source": [
    "# Abrir base de dados\n",
    "taxa_entrega = pd.read_excel(r'C:\\\\Backup 2024 02 07\\\\Usuário\\\\Desktop\\\\portifolio\\\\subir github\\\\Refazendo projetos\\\\Pedidos de entrega\\\\Pedidos de entrega Excel\\\\taxas_entrega.xlsx')\n",
    "\n",
    "# Exibir 2 linhas\n",
    "taxa_entrega.head(2)"
   ]
  },
  {
   "cell_type": "code",
   "execution_count": 7,
   "metadata": {},
   "outputs": [
    {
     "data": {
      "text/plain": [
       "(3, 7)"
      ]
     },
     "execution_count": 7,
     "metadata": {},
     "output_type": "execute_result"
    }
   ],
   "source": [
    "# Verificando tamanho e linhas\n",
    "taxa_entrega.shape"
   ]
  },
  {
   "cell_type": "code",
   "execution_count": 8,
   "metadata": {},
   "outputs": [
    {
     "data": {
      "text/plain": [
       "Origem_Local        3\n",
       "Destino_Local       3\n",
       "Distancia_km        3\n",
       "Tempo_Estimado_h    3\n",
       "Taxa_Base           3\n",
       "Taxa_Km             3\n",
       "Taxa_Volume         3\n",
       "dtype: int64"
      ]
     },
     "execution_count": 8,
     "metadata": {},
     "output_type": "execute_result"
    }
   ],
   "source": [
    "# Verificando quantidade duplicada\n",
    "taxa_entrega.drop_duplicates().count()"
   ]
  },
  {
   "cell_type": "code",
   "execution_count": 9,
   "metadata": {},
   "outputs": [
    {
     "data": {
      "text/plain": [
       "Origem_Local        3\n",
       "Destino_Local       3\n",
       "Distancia_km        3\n",
       "Tempo_Estimado_h    3\n",
       "Taxa_Base           3\n",
       "Taxa_Km             3\n",
       "Taxa_Volume         3\n",
       "dtype: int64"
      ]
     },
     "execution_count": 9,
     "metadata": {},
     "output_type": "execute_result"
    }
   ],
   "source": [
    "# Verificando valores faltantes\n",
    "taxa_entrega.isnull().count()"
   ]
  },
  {
   "cell_type": "code",
   "execution_count": 10,
   "metadata": {},
   "outputs": [
    {
     "data": {
      "text/html": [
       "<div>\n",
       "<style scoped>\n",
       "    .dataframe tbody tr th:only-of-type {\n",
       "        vertical-align: middle;\n",
       "    }\n",
       "\n",
       "    .dataframe tbody tr th {\n",
       "        vertical-align: top;\n",
       "    }\n",
       "\n",
       "    .dataframe thead th {\n",
       "        text-align: right;\n",
       "    }\n",
       "</style>\n",
       "<table border=\"1\" class=\"dataframe\">\n",
       "  <thead>\n",
       "    <tr style=\"text-align: right;\">\n",
       "      <th></th>\n",
       "      <th>Pedido_ID</th>\n",
       "      <th>Cliente_ID</th>\n",
       "      <th>Data_Pedido</th>\n",
       "      <th>Valor_Pedido</th>\n",
       "      <th>Local_Entrega</th>\n",
       "      <th>Volume (m³)</th>\n",
       "      <th>Peso (kg)</th>\n",
       "      <th>Status</th>\n",
       "    </tr>\n",
       "  </thead>\n",
       "  <tbody>\n",
       "    <tr>\n",
       "      <th>0</th>\n",
       "      <td>1</td>\n",
       "      <td>45</td>\n",
       "      <td>2024-11-01</td>\n",
       "      <td>152.57</td>\n",
       "      <td>Belo Horizonte - MG</td>\n",
       "      <td>0.13</td>\n",
       "      <td>19.82</td>\n",
       "      <td>Entregue</td>\n",
       "    </tr>\n",
       "    <tr>\n",
       "      <th>1</th>\n",
       "      <td>2</td>\n",
       "      <td>18</td>\n",
       "      <td>2024-11-02</td>\n",
       "      <td>242.20</td>\n",
       "      <td>Rio de Janeiro - RJ</td>\n",
       "      <td>0.13</td>\n",
       "      <td>8.84</td>\n",
       "      <td>Em Trânsito</td>\n",
       "    </tr>\n",
       "  </tbody>\n",
       "</table>\n",
       "</div>"
      ],
      "text/plain": [
       "   Pedido_ID  Cliente_ID Data_Pedido  Valor_Pedido        Local_Entrega  \\\n",
       "0          1          45  2024-11-01        152.57  Belo Horizonte - MG   \n",
       "1          2          18  2024-11-02        242.20  Rio de Janeiro - RJ   \n",
       "\n",
       "   Volume (m³)  Peso (kg)       Status  \n",
       "0         0.13      19.82     Entregue  \n",
       "1         0.13       8.84  Em Trânsito  "
      ]
     },
     "execution_count": 10,
     "metadata": {},
     "output_type": "execute_result"
    }
   ],
   "source": [
    "# Abrir base de dados\n",
    "pedidos = pd.read_excel(r'C:\\\\Backup 2024 02 07\\\\Usuário\\\\Desktop\\\\portifolio\\\\subir github\\\\Refazendo projetos\\\\Pedidos de entrega\\\\Pedidos de entrega Excel\\\\pedidos.xlsx')\n",
    "\n",
    "# Exibir 2 linhas\n",
    "pedidos.head(2)"
   ]
  },
  {
   "cell_type": "code",
   "execution_count": 11,
   "metadata": {},
   "outputs": [
    {
     "data": {
      "text/plain": [
       "(100, 8)"
      ]
     },
     "execution_count": 11,
     "metadata": {},
     "output_type": "execute_result"
    }
   ],
   "source": [
    "# Verificando tamanho e linhas\n",
    "pedidos.shape"
   ]
  },
  {
   "cell_type": "code",
   "execution_count": 12,
   "metadata": {},
   "outputs": [
    {
     "data": {
      "text/plain": [
       "Pedido_ID        100\n",
       "Cliente_ID       100\n",
       "Data_Pedido      100\n",
       "Valor_Pedido     100\n",
       "Local_Entrega    100\n",
       "Volume (m³)      100\n",
       "Peso (kg)        100\n",
       "Status           100\n",
       "dtype: int64"
      ]
     },
     "execution_count": 12,
     "metadata": {},
     "output_type": "execute_result"
    }
   ],
   "source": [
    "# Verificando quantidade duplicada\n",
    "pedidos.drop_duplicates().count()"
   ]
  },
  {
   "cell_type": "code",
   "execution_count": 13,
   "metadata": {},
   "outputs": [
    {
     "data": {
      "text/plain": [
       "Pedido_ID        100\n",
       "Cliente_ID       100\n",
       "Data_Pedido      100\n",
       "Valor_Pedido     100\n",
       "Local_Entrega    100\n",
       "Volume (m³)      100\n",
       "Peso (kg)        100\n",
       "Status           100\n",
       "dtype: int64"
      ]
     },
     "execution_count": 13,
     "metadata": {},
     "output_type": "execute_result"
    }
   ],
   "source": [
    "# Verificando valores faltantes\n",
    "pedidos.isnull().count()"
   ]
  },
  {
   "cell_type": "code",
   "execution_count": 14,
   "metadata": {},
   "outputs": [
    {
     "data": {
      "text/html": [
       "<div>\n",
       "<style scoped>\n",
       "    .dataframe tbody tr th:only-of-type {\n",
       "        vertical-align: middle;\n",
       "    }\n",
       "\n",
       "    .dataframe tbody tr th {\n",
       "        vertical-align: top;\n",
       "    }\n",
       "\n",
       "    .dataframe thead th {\n",
       "        text-align: right;\n",
       "    }\n",
       "</style>\n",
       "<table border=\"1\" class=\"dataframe\">\n",
       "  <thead>\n",
       "    <tr style=\"text-align: right;\">\n",
       "      <th></th>\n",
       "      <th>Motorista_ID</th>\n",
       "      <th>Nome</th>\n",
       "      <th>Experiencia_anos</th>\n",
       "      <th>Avaliacao</th>\n",
       "    </tr>\n",
       "  </thead>\n",
       "  <tbody>\n",
       "    <tr>\n",
       "      <th>0</th>\n",
       "      <td>201</td>\n",
       "      <td>Alejandro Roberson</td>\n",
       "      <td>9</td>\n",
       "      <td>3.7</td>\n",
       "    </tr>\n",
       "    <tr>\n",
       "      <th>1</th>\n",
       "      <td>202</td>\n",
       "      <td>Brian Curtis</td>\n",
       "      <td>1</td>\n",
       "      <td>4.2</td>\n",
       "    </tr>\n",
       "  </tbody>\n",
       "</table>\n",
       "</div>"
      ],
      "text/plain": [
       "   Motorista_ID                Nome  Experiencia_anos  Avaliacao\n",
       "0           201  Alejandro Roberson                 9        3.7\n",
       "1           202        Brian Curtis                 1        4.2"
      ]
     },
     "execution_count": 14,
     "metadata": {},
     "output_type": "execute_result"
    }
   ],
   "source": [
    "# Abrir base de dados\n",
    "motorista = pd.read_excel(r'C:\\\\Backup 2024 02 07\\\\Usuário\\\\Desktop\\\\portifolio\\\\subir github\\\\Refazendo projetos\\\\Pedidos de entrega\\\\Pedidos de entrega Excel\\\\motoristas.xlsx')\n",
    "\n",
    "# Exibir 2 linhas\n",
    "motorista.head(2)"
   ]
  },
  {
   "cell_type": "code",
   "execution_count": 15,
   "metadata": {},
   "outputs": [
    {
     "data": {
      "text/plain": [
       "(10, 4)"
      ]
     },
     "execution_count": 15,
     "metadata": {},
     "output_type": "execute_result"
    }
   ],
   "source": [
    "# Verificando tamanho e linhas\n",
    "motorista.shape"
   ]
  },
  {
   "cell_type": "code",
   "execution_count": 16,
   "metadata": {},
   "outputs": [
    {
     "data": {
      "text/plain": [
       "Motorista_ID        10\n",
       "Nome                10\n",
       "Experiencia_anos    10\n",
       "Avaliacao           10\n",
       "dtype: int64"
      ]
     },
     "execution_count": 16,
     "metadata": {},
     "output_type": "execute_result"
    }
   ],
   "source": [
    "# Verificando quantidade duplicada\n",
    "motorista.drop_duplicates().count()"
   ]
  },
  {
   "cell_type": "code",
   "execution_count": 17,
   "metadata": {},
   "outputs": [
    {
     "data": {
      "text/plain": [
       "Motorista_ID        10\n",
       "Nome                10\n",
       "Experiencia_anos    10\n",
       "Avaliacao           10\n",
       "dtype: int64"
      ]
     },
     "execution_count": 17,
     "metadata": {},
     "output_type": "execute_result"
    }
   ],
   "source": [
    "# Verificando valores faltantes\n",
    "motorista.isnull().count()"
   ]
  },
  {
   "cell_type": "code",
   "execution_count": 18,
   "metadata": {},
   "outputs": [
    {
     "data": {
      "text/html": [
       "<div>\n",
       "<style scoped>\n",
       "    .dataframe tbody tr th:only-of-type {\n",
       "        vertical-align: middle;\n",
       "    }\n",
       "\n",
       "    .dataframe tbody tr th {\n",
       "        vertical-align: top;\n",
       "    }\n",
       "\n",
       "    .dataframe thead th {\n",
       "        text-align: right;\n",
       "    }\n",
       "</style>\n",
       "<table border=\"1\" class=\"dataframe\">\n",
       "  <thead>\n",
       "    <tr style=\"text-align: right;\">\n",
       "      <th></th>\n",
       "      <th>Cliente_ID</th>\n",
       "      <th>Nome</th>\n",
       "      <th>Localizacao</th>\n",
       "      <th>Tipo_Cliente</th>\n",
       "    </tr>\n",
       "  </thead>\n",
       "  <tbody>\n",
       "    <tr>\n",
       "      <th>0</th>\n",
       "      <td>1</td>\n",
       "      <td>Jonathan Bradshaw</td>\n",
       "      <td>Belo Horizonte - MG</td>\n",
       "      <td>Pessoa Jurídica</td>\n",
       "    </tr>\n",
       "    <tr>\n",
       "      <th>1</th>\n",
       "      <td>2</td>\n",
       "      <td>Erika Smith</td>\n",
       "      <td>São Paulo - SP</td>\n",
       "      <td>Pessoa Física</td>\n",
       "    </tr>\n",
       "  </tbody>\n",
       "</table>\n",
       "</div>"
      ],
      "text/plain": [
       "   Cliente_ID               Nome          Localizacao     Tipo_Cliente\n",
       "0           1  Jonathan Bradshaw  Belo Horizonte - MG  Pessoa Jurídica\n",
       "1           2        Erika Smith       São Paulo - SP    Pessoa Física"
      ]
     },
     "execution_count": 18,
     "metadata": {},
     "output_type": "execute_result"
    }
   ],
   "source": [
    "# Abrir base de dados\n",
    "clientes = pd.read_excel(r'C:\\\\Backup 2024 02 07\\\\Usuário\\\\Desktop\\\\portifolio\\\\subir github\\\\Refazendo projetos\\\\Pedidos de entrega\\\\Pedidos de entrega Excel\\\\clientes.xlsx')\n",
    "\n",
    "# Exibir 2 linhas\n",
    "clientes.head(2)"
   ]
  },
  {
   "cell_type": "code",
   "execution_count": 19,
   "metadata": {},
   "outputs": [
    {
     "data": {
      "text/plain": [
       "(50, 4)"
      ]
     },
     "execution_count": 19,
     "metadata": {},
     "output_type": "execute_result"
    }
   ],
   "source": [
    "# Verificando tamanho e linhas\n",
    "clientes.shape"
   ]
  },
  {
   "cell_type": "code",
   "execution_count": 20,
   "metadata": {},
   "outputs": [
    {
     "data": {
      "text/plain": [
       "Cliente_ID      50\n",
       "Nome            50\n",
       "Localizacao     50\n",
       "Tipo_Cliente    50\n",
       "dtype: int64"
      ]
     },
     "execution_count": 20,
     "metadata": {},
     "output_type": "execute_result"
    }
   ],
   "source": [
    "# Verificando quantidade duplicada\n",
    "clientes.drop_duplicates().count()"
   ]
  },
  {
   "cell_type": "code",
   "execution_count": 21,
   "metadata": {},
   "outputs": [
    {
     "data": {
      "text/plain": [
       "Cliente_ID      50\n",
       "Nome            50\n",
       "Localizacao     50\n",
       "Tipo_Cliente    50\n",
       "dtype: int64"
      ]
     },
     "execution_count": 21,
     "metadata": {},
     "output_type": "execute_result"
    }
   ],
   "source": [
    "# Verificando valores faltantes\n",
    "clientes.isnull().count()"
   ]
  },
  {
   "cell_type": "markdown",
   "metadata": {},
   "source": [
    "Começando as análises"
   ]
  },
  {
   "cell_type": "code",
   "execution_count": 22,
   "metadata": {},
   "outputs": [
    {
     "data": {
      "text/plain": [
       "Index(['Entrega_ID', 'Pedido_ID', 'Data_Coleta', 'Data_Entrega', 'Veiculo',\n",
       "       'Motorista_ID', 'Atraso_h'],\n",
       "      dtype='object')"
      ]
     },
     "execution_count": 22,
     "metadata": {},
     "output_type": "execute_result"
    }
   ],
   "source": [
    "# Verificando todas as colunas\n",
    "historico_entregas.columns"
   ]
  },
  {
   "cell_type": "code",
   "execution_count": 23,
   "metadata": {},
   "outputs": [
    {
     "data": {
      "text/plain": [
       "array(['01/11/2022', '02/11/2022', '03/11/2022', '04/11/2022',\n",
       "       '05/11/2022', '06/11/2022', '07/11/2022', '08/11/2022',\n",
       "       '09/11/2022', '10/11/2022', '11/11/2022', '12/11/2022',\n",
       "       '13/11/2022', '14/11/2022', '15/11/2022', '16/11/2022',\n",
       "       '17/11/2022', '18/11/2022', '19/11/2022', '20/11/2022',\n",
       "       '21/11/2022', '22/11/2022', '23/11/2022', '24/11/2022',\n",
       "       '25/11/2022', '26/11/2022', '27/11/2022', '28/11/2022',\n",
       "       '29/11/2022', '30/11/2022', '01/12/2022', '02/12/2022',\n",
       "       '03/12/2022', '04/12/2022', '05/12/2022', '06/12/2022',\n",
       "       '07/12/2022', '08/12/2022', '09/12/2022', '10/12/2022',\n",
       "       '11/12/2022', '12/12/2022', '13/12/2022', '14/12/2022',\n",
       "       '15/12/2022', '16/12/2022', '17/12/2022', '18/12/2022',\n",
       "       '19/12/2022', '20/12/2022', '21/12/2022', '22/12/2022',\n",
       "       '23/12/2022', '24/12/2022', '25/12/2022', '26/12/2022',\n",
       "       '27/12/2022', '28/12/2022', '29/12/2022', '30/12/2022',\n",
       "       '31/12/2022', '01/01/2023', '02/01/2023', '03/01/2023',\n",
       "       '04/01/2023', '05/01/2023', '06/01/2023', '07/01/2023',\n",
       "       '08/01/2023', '09/01/2023', '10/01/2023', '11/01/2023',\n",
       "       '12/01/2023', '13/01/2023', '14/01/2023', '15/01/2023',\n",
       "       '16/01/2023', '17/01/2023', '18/01/2023', '19/01/2023',\n",
       "       '20/01/2023', '21/01/2023', '22/01/2023', '23/01/2023',\n",
       "       '24/01/2023', '25/01/2023', '26/01/2023', '27/01/2023',\n",
       "       '28/01/2023', '29/01/2023', '30/01/2023', '31/01/2023',\n",
       "       '01/02/2023', '02/02/2023', '03/02/2023', '04/02/2023',\n",
       "       '05/02/2023', '06/02/2023', '07/02/2023', '08/02/2023'],\n",
       "      dtype=object)"
      ]
     },
     "execution_count": 23,
     "metadata": {},
     "output_type": "execute_result"
    }
   ],
   "source": [
    "# Valores únicos coluna 'Data_Coleta'\n",
    "historico_entregas['Data_Coleta'].unique()"
   ]
  },
  {
   "cell_type": "code",
   "execution_count": 24,
   "metadata": {},
   "outputs": [
    {
     "name": "stdout",
     "output_type": "stream",
     "text": [
      "Dados que não seguem o padrão esperado:\n",
      "Empty DataFrame\n",
      "Columns: [Data_Coleta]\n",
      "Index: []\n"
     ]
    }
   ],
   "source": [
    "# Padrão esperado para data: XX/XX/XXXX\n",
    "padrao = r'^\\d{2}\\/\\d{2}\\/\\d{4}$'\n",
    "\n",
    "# Verificar quais datas não seguem o padrão\n",
    "historico_entregas['Nao_Padrao'] = historico_entregas['Data_Coleta'].str.match(padrao, na=False)\n",
    "\n",
    "# Filtrar os dados que NÃO estão no padrão\n",
    "dados_fora_do_padrao = historico_entregas[~historico_entregas['Nao_Padrao']]\n",
    "\n",
    "# Exibir resultado\n",
    "print(f\"Dados que não seguem o padrão esperado:\\n{dados_fora_do_padrao[['Data_Coleta']]}\")"
   ]
  },
  {
   "cell_type": "code",
   "execution_count": 25,
   "metadata": {},
   "outputs": [
    {
     "data": {
      "text/plain": [
       "array(['02/11/2022', '03/11/2022', '04/11/2022', '05/11/2022',\n",
       "       '07/11/2022', '08/11/2022', '09/11/2022', '11/11/2022',\n",
       "       '13/11/2022', '14/11/2022', '15/11/2022', '17/11/2022',\n",
       "       '18/11/2022', '20/11/2022', '22/11/2022', '23/11/2022',\n",
       "       '25/11/2022', '26/11/2022', '27/11/2022', '28/11/2022',\n",
       "       '29/11/2022', '30/11/2022', '02/12/2022', '03/12/2022',\n",
       "       '05/12/2022', '06/12/2022', '07/12/2022', '08/12/2022',\n",
       "       '09/12/2022', '10/12/2022', '11/12/2022', '12/12/2022',\n",
       "       '14/12/2022', '15/12/2022', '16/12/2022', '18/12/2022',\n",
       "       '19/12/2022', '21/12/2022', '22/12/2022', '23/12/2022',\n",
       "       '24/12/2022', '26/12/2022', '27/12/2022', '28/12/2022',\n",
       "       '30/12/2022', '01/01/2023', '02/01/2023', '03/01/2023',\n",
       "       '05/01/2023', '06/01/2023', '07/01/2023', '08/01/2023',\n",
       "       '10/01/2023', '11/01/2023', '12/01/2023', '13/01/2023',\n",
       "       '15/01/2023', '16/01/2023', '17/01/2023', '19/01/2023',\n",
       "       '21/01/2023', '22/01/2023', '23/01/2023', '25/01/2023',\n",
       "       '26/01/2023', '28/01/2023', '29/01/2023', '31/01/2023',\n",
       "       '01/02/2023', '02/02/2023', '04/02/2023', '05/02/2023',\n",
       "       '06/02/2023', '08/02/2023', '09/02/2023', '10/02/2023'],\n",
       "      dtype=object)"
      ]
     },
     "execution_count": 25,
     "metadata": {},
     "output_type": "execute_result"
    }
   ],
   "source": [
    "# Valores únicos coluna 'Data_Entrega'\n",
    "historico_entregas['Data_Entrega'].unique()"
   ]
  },
  {
   "cell_type": "code",
   "execution_count": 26,
   "metadata": {},
   "outputs": [
    {
     "name": "stdout",
     "output_type": "stream",
     "text": [
      "Dados que não seguem o padrão esperado:\n",
      "Empty DataFrame\n",
      "Columns: [Data_Entrega]\n",
      "Index: []\n"
     ]
    }
   ],
   "source": [
    "# Padrão esperado para data: XX/XX/XXXX\n",
    "padrao = r'^\\d{2}\\/\\d{2}\\/\\d{4}$'\n",
    "\n",
    "# Verificar quais datas não seguem o padrão\n",
    "historico_entregas['Nao_Padrao'] = historico_entregas['Data_Entrega'].str.match(padrao, na=False)\n",
    "\n",
    "# Filtrar os dados que NÃO estão no padrão\n",
    "dados_fora_do_padrao = historico_entregas[~historico_entregas['Nao_Padrao']]\n",
    "\n",
    "# Exibir resultado\n",
    "print(f\"Dados que não seguem o padrão esperado:\\n{dados_fora_do_padrao[['Data_Entrega']]}\")"
   ]
  },
  {
   "cell_type": "code",
   "execution_count": 27,
   "metadata": {},
   "outputs": [
    {
     "name": "stdout",
     "output_type": "stream",
     "text": [
      "Tempo médio de entrega: 1.47 dias\n",
      "Ou aproximadamente: 1 dias e 11.28 horas\n"
     ]
    }
   ],
   "source": [
    "# Converter colunas para datetime\n",
    "historico_entregas['Data_Coleta'] = pd.to_datetime(historico_entregas['Data_Coleta'], format='%d/%m/%Y')\n",
    "historico_entregas['Data_Entrega'] = pd.to_datetime(historico_entregas['Data_Entrega'], format='%d/%m/%Y')\n",
    "\n",
    "# Calcular a diferença em dias\n",
    "historico_entregas['Tempo_Entrega'] = (historico_entregas['Data_Entrega'] - historico_entregas['Data_Coleta']).dt.total_seconds() / (24 * 3600)\n",
    "\n",
    "# Calcular o tempo médio\n",
    "tempo_medio = historico_entregas['Tempo_Entrega'].mean()\n",
    "\n",
    "# Separar dias e horas do tempo médio\n",
    "dias = int(tempo_medio)  # Parte inteira (dias)\n",
    "horas = (tempo_medio - dias) * 24  # Parte decimal convertida para horas\n",
    "\n",
    "# Exibir resultados\n",
    "print(f\"Tempo médio de entrega: {tempo_medio:.2f} dias\")\n",
    "print(f\"Ou aproximadamente: {dias} dias e {horas:.2f} horas\")"
   ]
  },
  {
   "cell_type": "code",
   "execution_count": 28,
   "metadata": {},
   "outputs": [],
   "source": [
    "# Criei colunas separadas para 'Ano', 'Mes' e 'Dia'\n",
    "historico_entregas['Ano'] = historico_entregas['Data_Entrega'].dt.year\n",
    "historico_entregas['Mes'] = historico_entregas['Data_Entrega'].dt.month\n",
    "historico_entregas['Dia'] = historico_entregas['Data_Entrega'].dt.day"
   ]
  },
  {
   "cell_type": "code",
   "execution_count": 29,
   "metadata": {},
   "outputs": [
    {
     "data": {
      "text/plain": [
       "array([0, 1, 2, 3, 4], dtype=int64)"
      ]
     },
     "execution_count": 29,
     "metadata": {},
     "output_type": "execute_result"
    }
   ],
   "source": [
    "# Valores únicos coluna 'Atraso_h'\n",
    "atrasos = historico_entregas['Atraso_h'].unique()\n",
    "\n",
    "# Ordenar\n",
    "atrasos.sort() \n",
    "\n",
    "# Exibir resultado\n",
    "atrasos "
   ]
  },
  {
   "cell_type": "code",
   "execution_count": 30,
   "metadata": {},
   "outputs": [
    {
     "data": {
      "text/plain": [
       "count    100.000000\n",
       "mean       2.010000\n",
       "std        1.396207\n",
       "min        0.000000\n",
       "25%        1.000000\n",
       "50%        2.000000\n",
       "75%        3.000000\n",
       "max        4.000000\n",
       "Name: Atraso_h, dtype: float64"
      ]
     },
     "execution_count": 30,
     "metadata": {},
     "output_type": "execute_result"
    }
   ],
   "source": [
    "# Estatística coluna 'Atraso_h'\n",
    "historico_entregas['Atraso_h'].describe()"
   ]
  },
  {
   "cell_type": "code",
   "execution_count": 31,
   "metadata": {},
   "outputs": [
    {
     "name": "stdout",
     "output_type": "stream",
     "text": [
      "Atrasos menor ou igual a duas horas no ano de 2022\n"
     ]
    },
    {
     "data": {
      "text/html": [
       "<div>\n",
       "<style scoped>\n",
       "    .dataframe tbody tr th:only-of-type {\n",
       "        vertical-align: middle;\n",
       "    }\n",
       "\n",
       "    .dataframe tbody tr th {\n",
       "        vertical-align: top;\n",
       "    }\n",
       "\n",
       "    .dataframe thead th {\n",
       "        text-align: right;\n",
       "    }\n",
       "</style>\n",
       "<table border=\"1\" class=\"dataframe\">\n",
       "  <thead>\n",
       "    <tr style=\"text-align: right;\">\n",
       "      <th></th>\n",
       "      <th>Dia</th>\n",
       "      <th>Mes</th>\n",
       "      <th>Ano</th>\n",
       "      <th>Entrega_ID</th>\n",
       "    </tr>\n",
       "  </thead>\n",
       "  <tbody>\n",
       "    <tr>\n",
       "      <th>0</th>\n",
       "      <td>2</td>\n",
       "      <td>11</td>\n",
       "      <td>2022</td>\n",
       "      <td>501</td>\n",
       "    </tr>\n",
       "    <tr>\n",
       "      <th>2</th>\n",
       "      <td>4</td>\n",
       "      <td>11</td>\n",
       "      <td>2022</td>\n",
       "      <td>503</td>\n",
       "    </tr>\n",
       "    <tr>\n",
       "      <th>3</th>\n",
       "      <td>5</td>\n",
       "      <td>11</td>\n",
       "      <td>2022</td>\n",
       "      <td>504</td>\n",
       "    </tr>\n",
       "    <tr>\n",
       "      <th>5</th>\n",
       "      <td>8</td>\n",
       "      <td>11</td>\n",
       "      <td>2022</td>\n",
       "      <td>506</td>\n",
       "    </tr>\n",
       "    <tr>\n",
       "      <th>6</th>\n",
       "      <td>9</td>\n",
       "      <td>11</td>\n",
       "      <td>2022</td>\n",
       "      <td>507</td>\n",
       "    </tr>\n",
       "  </tbody>\n",
       "</table>\n",
       "</div>"
      ],
      "text/plain": [
       "   Dia  Mes   Ano  Entrega_ID\n",
       "0    2   11  2022         501\n",
       "2    4   11  2022         503\n",
       "3    5   11  2022         504\n",
       "5    8   11  2022         506\n",
       "6    9   11  2022         507"
      ]
     },
     "execution_count": 31,
     "metadata": {},
     "output_type": "execute_result"
    }
   ],
   "source": [
    "print('Atrasos menor ou igual a duas horas no ano de 2022') # Exibir mensagem\n",
    "\n",
    "# Filtro: atrasos menor ou igual a duas horas no ano de 2022\n",
    "menor_2h_atrasos_2022 = historico_entregas.query('Atraso_h <= 2 and Ano == 2022')[['Dia','Mes','Ano','Entrega_ID']]\n",
    "\n",
    "# Exibir 5 linhas\n",
    "menor_2h_atrasos_2022.head() "
   ]
  },
  {
   "cell_type": "code",
   "execution_count": 32,
   "metadata": {},
   "outputs": [
    {
     "name": "stdout",
     "output_type": "stream",
     "text": [
      "Atrasos menor ou igual a duas horas no ano de 2023\n"
     ]
    },
    {
     "data": {
      "text/html": [
       "<div>\n",
       "<style scoped>\n",
       "    .dataframe tbody tr th:only-of-type {\n",
       "        vertical-align: middle;\n",
       "    }\n",
       "\n",
       "    .dataframe tbody tr th {\n",
       "        vertical-align: top;\n",
       "    }\n",
       "\n",
       "    .dataframe thead th {\n",
       "        text-align: right;\n",
       "    }\n",
       "</style>\n",
       "<table border=\"1\" class=\"dataframe\">\n",
       "  <thead>\n",
       "    <tr style=\"text-align: right;\">\n",
       "      <th></th>\n",
       "      <th>Dia</th>\n",
       "      <th>Mes</th>\n",
       "      <th>Ano</th>\n",
       "      <th>Entrega_ID</th>\n",
       "    </tr>\n",
       "  </thead>\n",
       "  <tbody>\n",
       "    <tr>\n",
       "      <th>59</th>\n",
       "      <td>1</td>\n",
       "      <td>1</td>\n",
       "      <td>2023</td>\n",
       "      <td>560</td>\n",
       "    </tr>\n",
       "    <tr>\n",
       "      <th>61</th>\n",
       "      <td>2</td>\n",
       "      <td>1</td>\n",
       "      <td>2023</td>\n",
       "      <td>562</td>\n",
       "    </tr>\n",
       "    <tr>\n",
       "      <th>62</th>\n",
       "      <td>3</td>\n",
       "      <td>1</td>\n",
       "      <td>2023</td>\n",
       "      <td>563</td>\n",
       "    </tr>\n",
       "    <tr>\n",
       "      <th>63</th>\n",
       "      <td>5</td>\n",
       "      <td>1</td>\n",
       "      <td>2023</td>\n",
       "      <td>564</td>\n",
       "    </tr>\n",
       "    <tr>\n",
       "      <th>65</th>\n",
       "      <td>7</td>\n",
       "      <td>1</td>\n",
       "      <td>2023</td>\n",
       "      <td>566</td>\n",
       "    </tr>\n",
       "  </tbody>\n",
       "</table>\n",
       "</div>"
      ],
      "text/plain": [
       "    Dia  Mes   Ano  Entrega_ID\n",
       "59    1    1  2023         560\n",
       "61    2    1  2023         562\n",
       "62    3    1  2023         563\n",
       "63    5    1  2023         564\n",
       "65    7    1  2023         566"
      ]
     },
     "execution_count": 32,
     "metadata": {},
     "output_type": "execute_result"
    }
   ],
   "source": [
    "print('Atrasos menor ou igual a duas horas no ano de 2023') # Exibir mensagem\n",
    "\n",
    "# Filtro: atrasos menor ou igual a duas horas no ano de 2023\n",
    "menor_2h_atrasos_2023 = historico_entregas.query('Atraso_h <= 2 and Ano == 2023')[['Dia','Mes','Ano','Entrega_ID']]\n",
    "\n",
    "# Exibir 5 linhas\n",
    "menor_2h_atrasos_2023.head()"
   ]
  },
  {
   "cell_type": "code",
   "execution_count": 33,
   "metadata": {},
   "outputs": [
    {
     "name": "stdout",
     "output_type": "stream",
     "text": [
      "Quantidade de atraso menor ou igual a duas horas no ano de 2022: 30\n",
      "\n",
      "Quantidade de atraso menor ou igual a duas horas no ano de 2023: 30\n"
     ]
    }
   ],
   "source": [
    "# Quantidade de atraso menor ou igual a duas horas\n",
    "print(f'Quantidade de atraso menor ou igual a duas horas no ano de 2022: {menor_2h_atrasos_2022['Ano'].count()}') \n",
    "print()\n",
    "print(f'Quantidade de atraso menor ou igual a duas horas no ano de 2023: {menor_2h_atrasos_2023['Ano'].count()}')"
   ]
  },
  {
   "cell_type": "code",
   "execution_count": 34,
   "metadata": {},
   "outputs": [
    {
     "name": "stdout",
     "output_type": "stream",
     "text": [
      "Quantidade de atrasos menor ou igual a duas horas no ano de 2022:\n",
      "Intervalo primeira semana: 8 atrasos\n",
      "Intervalo do dia 8 ao dia 14: 7 atrasos\n",
      "Intervalo do dia 15 ao dia 21: 3 atrasos\n",
      "Intervalo do dia 22 ao dia 31: 12 atrasos\n"
     ]
    }
   ],
   "source": [
    "# Filtro por intervalo de dia, ano e atraso\n",
    "menor_7_2022 = historico_entregas.query('Dia <= 7 & Ano == 2022 & Atraso_h <= 2')['Dia'].count()\n",
    "menor_8_a_14_2022 = historico_entregas.query('Dia >= 8 and Dia <= 14 & Ano == 2022 & Atraso_h <= 2')['Dia'].count()\n",
    "menor_15_a_21_2022 = historico_entregas.query('Dia >= 15 and Dia <= 21 & Ano == 2022 & Atraso_h <= 2')['Dia'].count()\n",
    "menor_22_a_31_2022 = historico_entregas.query('Dia >= 22 and Dia <= 31 & Ano == 2022 & Atraso_h <= 2')['Dia'].count()\n",
    "\n",
    "print('Quantidade de atrasos menor ou igual a duas horas no ano de 2022:') # Exibir mensagem\n",
    "\n",
    "# Exibir resultados\n",
    "print(f'Intervalo primeira semana: {menor_7_2022} atrasos')\n",
    "print(f'Intervalo do dia 8 ao dia 14: {menor_8_a_14_2022} atrasos')\n",
    "print(f'Intervalo do dia 15 ao dia 21: {menor_15_a_21_2022} atrasos')\n",
    "print(f'Intervalo do dia 22 ao dia 31: {menor_22_a_31_2022} atrasos')"
   ]
  },
  {
   "cell_type": "code",
   "execution_count": 35,
   "metadata": {},
   "outputs": [
    {
     "name": "stdout",
     "output_type": "stream",
     "text": [
      "Quantidade de atrasos menor ou igual a duas horas no ano de 2023:\n",
      "Intervalo primeira semana: 8 atrasos\n",
      "Intervalo do dia 8 ao dia 14: 6 atrasos\n",
      "Intervalo do dia 15 ao dia 21: 6 atrasos\n",
      "Intervalo do dia 22 ao dia 31: 10 atrasos\n"
     ]
    }
   ],
   "source": [
    "# Filtro por intervalo de dia, ano e atraso\n",
    "menor_7_2023 = historico_entregas.query('Dia <= 7 & Ano == 2023 & Atraso_h <= 2')['Dia'].count()\n",
    "menor_8_a_14_2023 = historico_entregas.query('Dia >= 8 and Dia <= 14 & Ano == 2023 & Atraso_h <= 2')['Dia'].count()\n",
    "menor_15_a_21_2023 = historico_entregas.query('Dia >= 15 and Dia <= 21 & Ano == 2023 & Atraso_h <= 2')['Dia'].count()\n",
    "menor_22_a_31_2023 = historico_entregas.query('Dia >= 22 and Dia <= 31 & Ano == 2023& Atraso_h <= 2')['Dia'].count()\n",
    "\n",
    "print('Quantidade de atrasos menor ou igual a duas horas no ano de 2023:') # Exibir mensagem\n",
    "\n",
    "# Exibir resultados\n",
    "print(f'Intervalo primeira semana: {menor_7_2023} atrasos')\n",
    "print(f'Intervalo do dia 8 ao dia 14: {menor_8_a_14_2023} atrasos')\n",
    "print(f'Intervalo do dia 15 ao dia 21: {menor_15_a_21_2023} atrasos')\n",
    "print(f'Intervalo do dia 22 ao dia 31: {menor_22_a_31_2023} atrasos')"
   ]
  },
  {
   "cell_type": "code",
   "execution_count": 36,
   "metadata": {},
   "outputs": [
    {
     "name": "stdout",
     "output_type": "stream",
     "text": [
      "Atraso maior ou igual a duas horas no ano de 2022\n"
     ]
    },
    {
     "data": {
      "text/html": [
       "<div>\n",
       "<style scoped>\n",
       "    .dataframe tbody tr th:only-of-type {\n",
       "        vertical-align: middle;\n",
       "    }\n",
       "\n",
       "    .dataframe tbody tr th {\n",
       "        vertical-align: top;\n",
       "    }\n",
       "\n",
       "    .dataframe thead th {\n",
       "        text-align: right;\n",
       "    }\n",
       "</style>\n",
       "<table border=\"1\" class=\"dataframe\">\n",
       "  <thead>\n",
       "    <tr style=\"text-align: right;\">\n",
       "      <th></th>\n",
       "      <th>Dia</th>\n",
       "      <th>Mes</th>\n",
       "      <th>Ano</th>\n",
       "      <th>Entrega_ID</th>\n",
       "    </tr>\n",
       "  </thead>\n",
       "  <tbody>\n",
       "    <tr>\n",
       "      <th>1</th>\n",
       "      <td>3</td>\n",
       "      <td>11</td>\n",
       "      <td>2022</td>\n",
       "      <td>502</td>\n",
       "    </tr>\n",
       "    <tr>\n",
       "      <th>4</th>\n",
       "      <td>7</td>\n",
       "      <td>11</td>\n",
       "      <td>2022</td>\n",
       "      <td>505</td>\n",
       "    </tr>\n",
       "    <tr>\n",
       "      <th>5</th>\n",
       "      <td>8</td>\n",
       "      <td>11</td>\n",
       "      <td>2022</td>\n",
       "      <td>506</td>\n",
       "    </tr>\n",
       "    <tr>\n",
       "      <th>8</th>\n",
       "      <td>11</td>\n",
       "      <td>11</td>\n",
       "      <td>2022</td>\n",
       "      <td>509</td>\n",
       "    </tr>\n",
       "    <tr>\n",
       "      <th>9</th>\n",
       "      <td>11</td>\n",
       "      <td>11</td>\n",
       "      <td>2022</td>\n",
       "      <td>510</td>\n",
       "    </tr>\n",
       "  </tbody>\n",
       "</table>\n",
       "</div>"
      ],
      "text/plain": [
       "   Dia  Mes   Ano  Entrega_ID\n",
       "1    3   11  2022         502\n",
       "4    7   11  2022         505\n",
       "5    8   11  2022         506\n",
       "8   11   11  2022         509\n",
       "9   11   11  2022         510"
      ]
     },
     "execution_count": 36,
     "metadata": {},
     "output_type": "execute_result"
    }
   ],
   "source": [
    "print('Atraso maior ou igual a duas horas no ano de 2022') # Exibir mensagem\n",
    "\n",
    "# Filtro por atraso e ano\n",
    "maior_2h_atrasos_2022 = historico_entregas.query('Atraso_h >= 2 and Ano == 2022')[['Dia','Mes','Ano','Entrega_ID']]\n",
    "\n",
    "# Exibir 5 linhas\n",
    "maior_2h_atrasos_2022.head()"
   ]
  },
  {
   "cell_type": "code",
   "execution_count": 37,
   "metadata": {},
   "outputs": [
    {
     "name": "stdout",
     "output_type": "stream",
     "text": [
      "Atraso maior ou igual a duas horas no ano de 2023\n"
     ]
    },
    {
     "data": {
      "text/html": [
       "<div>\n",
       "<style scoped>\n",
       "    .dataframe tbody tr th:only-of-type {\n",
       "        vertical-align: middle;\n",
       "    }\n",
       "\n",
       "    .dataframe tbody tr th {\n",
       "        vertical-align: top;\n",
       "    }\n",
       "\n",
       "    .dataframe thead th {\n",
       "        text-align: right;\n",
       "    }\n",
       "</style>\n",
       "<table border=\"1\" class=\"dataframe\">\n",
       "  <thead>\n",
       "    <tr style=\"text-align: right;\">\n",
       "      <th></th>\n",
       "      <th>Dia</th>\n",
       "      <th>Mes</th>\n",
       "      <th>Ano</th>\n",
       "      <th>Entrega_ID</th>\n",
       "    </tr>\n",
       "  </thead>\n",
       "  <tbody>\n",
       "    <tr>\n",
       "      <th>60</th>\n",
       "      <td>1</td>\n",
       "      <td>1</td>\n",
       "      <td>2023</td>\n",
       "      <td>561</td>\n",
       "    </tr>\n",
       "    <tr>\n",
       "      <th>63</th>\n",
       "      <td>5</td>\n",
       "      <td>1</td>\n",
       "      <td>2023</td>\n",
       "      <td>564</td>\n",
       "    </tr>\n",
       "    <tr>\n",
       "      <th>64</th>\n",
       "      <td>6</td>\n",
       "      <td>1</td>\n",
       "      <td>2023</td>\n",
       "      <td>565</td>\n",
       "    </tr>\n",
       "    <tr>\n",
       "      <th>66</th>\n",
       "      <td>8</td>\n",
       "      <td>1</td>\n",
       "      <td>2023</td>\n",
       "      <td>567</td>\n",
       "    </tr>\n",
       "    <tr>\n",
       "      <th>69</th>\n",
       "      <td>11</td>\n",
       "      <td>1</td>\n",
       "      <td>2023</td>\n",
       "      <td>570</td>\n",
       "    </tr>\n",
       "  </tbody>\n",
       "</table>\n",
       "</div>"
      ],
      "text/plain": [
       "    Dia  Mes   Ano  Entrega_ID\n",
       "60    1    1  2023         561\n",
       "63    5    1  2023         564\n",
       "64    6    1  2023         565\n",
       "66    8    1  2023         567\n",
       "69   11    1  2023         570"
      ]
     },
     "execution_count": 37,
     "metadata": {},
     "output_type": "execute_result"
    }
   ],
   "source": [
    "print('Atraso maior ou igual a duas horas no ano de 2023') # Exibir mensagem\n",
    "\n",
    "# Filtro por atraso e ano\n",
    "maior_2h_atrasos_2023 = historico_entregas.query('Atraso_h >= 2 and Ano == 2023')[['Dia','Mes','Ano','Entrega_ID']]\n",
    "\n",
    "# Exibir 5 linhas\n",
    "maior_2h_atrasos_2023.head()"
   ]
  },
  {
   "cell_type": "code",
   "execution_count": 38,
   "metadata": {},
   "outputs": [
    {
     "name": "stdout",
     "output_type": "stream",
     "text": [
      "Contagem de atrasos maior ou igual a duas horas do ano de 2022: 40\n",
      "\n",
      "Contagem de atrasos maior ou igual a duas horas do ano de 2023: 21\n"
     ]
    }
   ],
   "source": [
    "# Quantidade de atraso maior ou igual a duas horas\n",
    "print(f'Contagem de atrasos maior ou igual a duas horas do ano de 2022: {maior_2h_atrasos_2022['Ano'].count()}') \n",
    "\n",
    "print()\n",
    "\n",
    "print(f'Contagem de atrasos maior ou igual a duas horas do ano de 2023: {maior_2h_atrasos_2023['Ano'].count()}')\n"
   ]
  },
  {
   "cell_type": "code",
   "execution_count": 39,
   "metadata": {},
   "outputs": [
    {
     "name": "stdout",
     "output_type": "stream",
     "text": [
      "Quantidade de atrasos maior ou igual a duas horas no ano de 2022:\n",
      "Intervalo primeira semana: 5 atrasos\n",
      "Intervalo do dia 8 ao dia 14: 10 atrasos\n",
      "Intervalo do dia 15 ao dia 21: 11 atrasos\n",
      "Intervalo doa dia 22 ao dia 31: 14 atrasos\n"
     ]
    }
   ],
   "source": [
    "# Filtro por intervalo de dia e atraso\n",
    "maior_7_2022 = historico_entregas.query('Dia <= 7 & Ano == 2022 & Atraso_h >= 2')['Dia'].count()\n",
    "maior_8_a_14_2022 = historico_entregas.query('Dia >= 8 and Dia <= 14 & Ano == 2022 & Atraso_h >= 2')['Dia'].count()\n",
    "maior_15_a_21_2022 = historico_entregas.query('Dia >= 15 and Dia <= 21 & Ano == 2022 & Atraso_h >= 2')['Dia'].count()\n",
    "maior_22_a_31_2022 = historico_entregas.query('Dia >= 22 and Dia <= 31 & Ano == 2022 & Atraso_h >= 2')['Dia'].count()\n",
    "\n",
    "print('Quantidade de atrasos maior ou igual a duas horas no ano de 2022:') # Exibir mensagem\n",
    "\n",
    "# Exibir resultado\n",
    "print(f'Intervalo primeira semana: {maior_7_2022} atrasos')\n",
    "print(f'Intervalo do dia 8 ao dia 14: {maior_8_a_14_2022} atrasos')\n",
    "print(f'Intervalo do dia 15 ao dia 21: {maior_15_a_21_2022} atrasos')\n",
    "print(f'Intervalo doa dia 22 ao dia 31: {maior_22_a_31_2022} atrasos')"
   ]
  },
  {
   "cell_type": "code",
   "execution_count": 40,
   "metadata": {},
   "outputs": [
    {
     "name": "stdout",
     "output_type": "stream",
     "text": [
      "Quantidade de atrasos maior ou igual a duas horas no ano de 2023:\n",
      "Intervalo primeira semana: 7 atrasos\n",
      "Intervalo do dia 8 ao dia 14: 4 atrasos\n",
      "Intervalo doa dia 15 ao dia 21: 3 atrasos\n",
      "Intervalo do dia 22 ao dia 30: 7 atrasos\n"
     ]
    }
   ],
   "source": [
    "# Filtro por intervalo de dia e atraso\n",
    "maior_7_2023 = historico_entregas.query('Dia <= 7 & Ano == 2023 & Atraso_h >= 2')['Dia'].count()\n",
    "maior_dia_8_a_14_2023 = historico_entregas.query('Dia >= 8 and Dia <= 14 & Ano == 2023 & Atraso_h >= 2')['Dia'].count()\n",
    "maior_dia_15_a_21_2023 = historico_entregas.query('Dia >= 15 and Dia <= 21 & Ano == 2023 & Atraso_h >= 2')['Dia'].count()\n",
    "maior_dia_22_a_31_2023 = historico_entregas.query('Dia >= 22 and Dia <= 31 & Ano == 2023 & Atraso_h >= 2')['Dia'].count()\n",
    "\n",
    "print('Quantidade de atrasos maior ou igual a duas horas no ano de 2023:') # Exibir mensagem\n",
    "\n",
    "# Exibir resultado\n",
    "print(f'Intervalo primeira semana: {maior_7_2023} atrasos')\n",
    "print(f'Intervalo do dia 8 ao dia 14: {maior_dia_8_a_14_2023} atrasos')\n",
    "print(f'Intervalo doa dia 15 ao dia 21: {maior_dia_15_a_21_2023} atrasos')\n",
    "print(f'Intervalo do dia 22 ao dia 30: {maior_dia_22_a_31_2023} atrasos')"
   ]
  },
  {
   "cell_type": "code",
   "execution_count": 41,
   "metadata": {},
   "outputs": [
    {
     "name": "stdout",
     "output_type": "stream",
     "text": [
      "Sem atrasos no ano de 2022\n"
     ]
    },
    {
     "data": {
      "text/html": [
       "<div>\n",
       "<style scoped>\n",
       "    .dataframe tbody tr th:only-of-type {\n",
       "        vertical-align: middle;\n",
       "    }\n",
       "\n",
       "    .dataframe tbody tr th {\n",
       "        vertical-align: top;\n",
       "    }\n",
       "\n",
       "    .dataframe thead th {\n",
       "        text-align: right;\n",
       "    }\n",
       "</style>\n",
       "<table border=\"1\" class=\"dataframe\">\n",
       "  <thead>\n",
       "    <tr style=\"text-align: right;\">\n",
       "      <th></th>\n",
       "      <th>Dia</th>\n",
       "      <th>Mes</th>\n",
       "      <th>Ano</th>\n",
       "      <th>Entrega_ID</th>\n",
       "    </tr>\n",
       "  </thead>\n",
       "  <tbody>\n",
       "    <tr>\n",
       "      <th>0</th>\n",
       "      <td>2</td>\n",
       "      <td>11</td>\n",
       "      <td>2022</td>\n",
       "      <td>501</td>\n",
       "    </tr>\n",
       "    <tr>\n",
       "      <th>7</th>\n",
       "      <td>9</td>\n",
       "      <td>11</td>\n",
       "      <td>2022</td>\n",
       "      <td>508</td>\n",
       "    </tr>\n",
       "    <tr>\n",
       "      <th>37</th>\n",
       "      <td>10</td>\n",
       "      <td>12</td>\n",
       "      <td>2022</td>\n",
       "      <td>538</td>\n",
       "    </tr>\n",
       "    <tr>\n",
       "      <th>38</th>\n",
       "      <td>11</td>\n",
       "      <td>12</td>\n",
       "      <td>2022</td>\n",
       "      <td>539</td>\n",
       "    </tr>\n",
       "    <tr>\n",
       "      <th>48</th>\n",
       "      <td>21</td>\n",
       "      <td>12</td>\n",
       "      <td>2022</td>\n",
       "      <td>549</td>\n",
       "    </tr>\n",
       "  </tbody>\n",
       "</table>\n",
       "</div>"
      ],
      "text/plain": [
       "    Dia  Mes   Ano  Entrega_ID\n",
       "0     2   11  2022         501\n",
       "7     9   11  2022         508\n",
       "37   10   12  2022         538\n",
       "38   11   12  2022         539\n",
       "48   21   12  2022         549"
      ]
     },
     "execution_count": 41,
     "metadata": {},
     "output_type": "execute_result"
    }
   ],
   "source": [
    "print('Sem atrasos no ano de 2022') # Exibir mensagem\n",
    "\n",
    "# Filtro: atraso e ano\n",
    "sem_atrasos_2022 = historico_entregas.query('Atraso_h == 0 and Ano == 2022')[['Dia','Mes','Ano','Entrega_ID']]\n",
    "\n",
    "# Exibir 5 linhas\n",
    "sem_atrasos_2022.head()"
   ]
  },
  {
   "cell_type": "code",
   "execution_count": 42,
   "metadata": {},
   "outputs": [
    {
     "name": "stdout",
     "output_type": "stream",
     "text": [
      "Sem atrasos no ano de 2023\n"
     ]
    },
    {
     "data": {
      "text/html": [
       "<div>\n",
       "<style scoped>\n",
       "    .dataframe tbody tr th:only-of-type {\n",
       "        vertical-align: middle;\n",
       "    }\n",
       "\n",
       "    .dataframe tbody tr th {\n",
       "        vertical-align: top;\n",
       "    }\n",
       "\n",
       "    .dataframe thead th {\n",
       "        text-align: right;\n",
       "    }\n",
       "</style>\n",
       "<table border=\"1\" class=\"dataframe\">\n",
       "  <thead>\n",
       "    <tr style=\"text-align: right;\">\n",
       "      <th></th>\n",
       "      <th>Dia</th>\n",
       "      <th>Mes</th>\n",
       "      <th>Ano</th>\n",
       "      <th>Entrega_ID</th>\n",
       "    </tr>\n",
       "  </thead>\n",
       "  <tbody>\n",
       "    <tr>\n",
       "      <th>61</th>\n",
       "      <td>2</td>\n",
       "      <td>1</td>\n",
       "      <td>2023</td>\n",
       "      <td>562</td>\n",
       "    </tr>\n",
       "    <tr>\n",
       "      <th>62</th>\n",
       "      <td>3</td>\n",
       "      <td>1</td>\n",
       "      <td>2023</td>\n",
       "      <td>563</td>\n",
       "    </tr>\n",
       "    <tr>\n",
       "      <th>65</th>\n",
       "      <td>7</td>\n",
       "      <td>1</td>\n",
       "      <td>2023</td>\n",
       "      <td>566</td>\n",
       "    </tr>\n",
       "    <tr>\n",
       "      <th>67</th>\n",
       "      <td>8</td>\n",
       "      <td>1</td>\n",
       "      <td>2023</td>\n",
       "      <td>568</td>\n",
       "    </tr>\n",
       "    <tr>\n",
       "      <th>70</th>\n",
       "      <td>11</td>\n",
       "      <td>1</td>\n",
       "      <td>2023</td>\n",
       "      <td>571</td>\n",
       "    </tr>\n",
       "  </tbody>\n",
       "</table>\n",
       "</div>"
      ],
      "text/plain": [
       "    Dia  Mes   Ano  Entrega_ID\n",
       "61    2    1  2023         562\n",
       "62    3    1  2023         563\n",
       "65    7    1  2023         566\n",
       "67    8    1  2023         568\n",
       "70   11    1  2023         571"
      ]
     },
     "execution_count": 42,
     "metadata": {},
     "output_type": "execute_result"
    }
   ],
   "source": [
    "print('Sem atrasos no ano de 2023') # Exibir mensagem\n",
    "\n",
    "# Filtro: atraso e ano\n",
    "sem_atrasos_2023 = historico_entregas.query('Atraso_h == 0 and Ano == 2023')[['Dia','Mes','Ano','Entrega_ID']]\n",
    "\n",
    "# Exibir 5 linhas\n",
    "sem_atrasos_2023.head()"
   ]
  },
  {
   "cell_type": "code",
   "execution_count": 43,
   "metadata": {},
   "outputs": [
    {
     "name": "stdout",
     "output_type": "stream",
     "text": [
      "Quantidade sem atrasos ano de 2022: 8\n",
      "\n",
      "Quantiade sem atraso ano de 2023: 11\n"
     ]
    }
   ],
   "source": [
    "# Quantidade sem atraso \n",
    "print(f'Quantidade sem atrasos ano de 2022: {sem_atrasos_2022['Ano'].count()}')\n",
    "print()\n",
    "print(f'Quantiade sem atraso ano de 2023: {sem_atrasos_2023['Ano'].count()}')"
   ]
  },
  {
   "cell_type": "code",
   "execution_count": 44,
   "metadata": {},
   "outputs": [
    {
     "name": "stdout",
     "output_type": "stream",
     "text": [
      "Quantidade sem atrasos no ano de 2022:\n",
      "Intervalo primeir semana: 1 atarsos\n",
      "Intervalo dia 8 ao dia 14: 3 atarsos\n",
      "Intervalo dia 15 ao dia 21: 1 atrasos\n",
      "Intevalo dai 22 ao dia 31: 3 atrasos\n"
     ]
    }
   ],
   "source": [
    "# Filtro por intervalo de dia e atraso\n",
    "sem_7_2022 = historico_entregas.query('Dia <= 7 & Ano == 2022 & Atraso_h == 0')['Dia'].count()\n",
    "sem_8_a_14_2022 = historico_entregas.query('Dia >= 8 and Dia <= 14 & Ano == 2022 & Atraso_h == 0')['Dia'].count()\n",
    "sem_15_a_21_2022 = historico_entregas.query('Dia >= 15 and Dia <= 21 & Ano == 2022 & Atraso_h == 0')['Dia'].count()\n",
    "sem_22_a_31_2022 = historico_entregas.query('Dia >= 22 and Dia <= 31 & Ano == 2022 & Atraso_h == 0')['Dia'].count()\n",
    "\n",
    "print('Quantidade sem atrasos no ano de 2022:') # Exibir mensagem\n",
    "\n",
    "# Exibir resultado\n",
    "print(f'Intervalo primeir semana: {sem_7_2022} atarsos')\n",
    "print(f'Intervalo dia 8 ao dia 14: {sem_8_a_14_2022} atarsos')\n",
    "print(f'Intervalo dia 15 ao dia 21: {sem_15_a_21_2022} atrasos')\n",
    "print(f'Intevalo dai 22 ao dia 31: {sem_22_a_31_2022} atrasos')"
   ]
  },
  {
   "cell_type": "code",
   "execution_count": 45,
   "metadata": {},
   "outputs": [
    {
     "name": "stdout",
     "output_type": "stream",
     "text": [
      "Quantidade sem atrasos no ano de 2023:\n",
      "Intervalo primeira semana: 5 atrasos\n",
      "Intervalo dia 8 ao dia 14: 2 atrasos\n",
      "Intrevalo dia 15 ao dia 21: 2 atrasos\n",
      "Intervalo dia 22 ao dia 31: 2 atrasos\n"
     ]
    }
   ],
   "source": [
    "# Filtro por intervalo de dia e atraso\n",
    "sem_7_2023 = historico_entregas.query('Dia <= 7 & Ano == 2023 & Atraso_h == 0')['Dia'].count()\n",
    "sem_8_a_14_2023 = historico_entregas.query('Dia >= 8 and Dia <= 14 & Ano == 2023 & Atraso_h == 0')['Dia'].count()\n",
    "sem_15_a_21_2023 = historico_entregas.query('Dia >= 15 and Dia <= 21 & Ano == 2023 & Atraso_h == 0')['Dia'].count()\n",
    "sem_22_a_31_2023 = historico_entregas.query('Dia >= 22 and Dia <= 31 & Ano == 2023 & Atraso_h == 0')['Dia'].count()\n",
    "\n",
    "print('Quantidade sem atrasos no ano de 2023:') # Exibir mensagem\n",
    "\n",
    "# Exibir resultado\n",
    "print(f'Intervalo primeira semana: {sem_7_2023} atrasos')\n",
    "print(f'Intervalo dia 8 ao dia 14: {sem_8_a_14_2023} atrasos')\n",
    "print(f'Intrevalo dia 15 ao dia 21: {sem_15_a_21_2023} atrasos')\n",
    "print(f'Intervalo dia 22 ao dia 31: {sem_22_a_31_2023} atrasos')"
   ]
  },
  {
   "cell_type": "code",
   "execution_count": 46,
   "metadata": {},
   "outputs": [
    {
     "data": {
      "image/png": "[encoded data removed]",
      "text/plain": [
       "<Figure size 1400x600 with 2 Axes>"
      ]
     },
     "metadata": {},
     "output_type": "display_data"
    }
   ],
   "source": [
    "# Importando biblioteca para criar gráfico\n",
    "import matplotlib.pyplot as plt\n",
    "\n",
    "# Valores\n",
    "x = [2022, 2023]  # Anos\n",
    "y1 = [30, 30]  # Quantidade ano 2022\n",
    "y2 = [40, 21]  # Quantidade ano 2023\n",
    "\n",
    "# Criando os gráficos lado a lado\n",
    "fig, (ax1, ax2) = plt.subplots(1, 2, figsize=(14, 6))\n",
    "\n",
    "# Quantidade de cada ano\n",
    "ax1.bar(x, y1, color='teal')\n",
    "ax1.set_title('Menor que 2 horas de atraso')\n",
    "ax1.set_xlabel('Ano')\n",
    "ax1.grid(axis='y', linestyle='--')\n",
    "ax1.set_ylim(0, max(y1) + 10)  # Ajustando o limite superior do eixo y\n",
    "ax1.set_xticks(x)  # Garantir que os anos sejam mostrados corretamente\n",
    "ax1.set_yticks([]) \n",
    "\n",
    "# Adicionar os valores nas barras do primeiro gráfico\n",
    "for i in range(len(x)):\n",
    "    ax1.text(x[i], y1[i] + 1, str(y1[i]), ha='center', va='bottom')\n",
    "\n",
    "# Total de vendas por ano\n",
    "ax2.bar(x, y2, color='orange')\n",
    "ax2.set_title('Maior que 2 horas de atarso')\n",
    "ax2.set_xlabel('Ano')\n",
    "ax2.grid(axis='y', linestyle='--')\n",
    "ax2.set_ylim(0, max(y2) + 10)  # Ajustando o limite superior do eixo y\n",
    "ax2.set_xticks(x)  # Garantir que os anos sejam mostrados corretamente\n",
    "ax2.set_yticks([])\n",
    "\n",
    "# Adicionar os valores nas barras do segundo gráfico\n",
    "for i in range(len(x)):\n",
    "    ax2.text(x[i], y2[i] + 1, str(y2[i]), ha='center', va='bottom')\n",
    "\n",
    "# Ajustar o layout\n",
    "plt.tight_layout();"
   ]
  },
  {
   "cell_type": "code",
   "execution_count": 47,
   "metadata": {},
   "outputs": [
    {
     "data": {
      "image/png": "[encoded data removed]",
      "text/plain": [
       "<Figure size 1400x600 with 2 Axes>"
      ]
     },
     "metadata": {},
     "output_type": "display_data"
    }
   ],
   "source": [
    "# Importando biblioteca para criar gráficos\n",
    "import matplotlib.pyplot as plt\n",
    "\n",
    "# Dados\n",
    "x = ['1-7 dias', '8-14 dias', '15-21 dias', '22-30 dias']\n",
    "y1 = [menor_7_2022, menor_8_a_14_2022, menor_15_a_21_2022, menor_22_a_31_2022]\n",
    "y2 = [menor_7_2023, menor_8_a_14_2023, menor_15_a_21_2023, menor_22_a_31_2023]\n",
    "\n",
    "# Criando os gráficos lado a lado\n",
    "fig, (ax1, ax2) = plt.subplots(1, 2, figsize=(14, 6))\n",
    "\n",
    "# Gráfico de linha - Ano 2022\n",
    "ax1.plot(x, y1, marker='o', linestyle='-', color='teal')\n",
    "ax1.set_title('Tendência de Entregas - atraso menor que 2h em 2022')\n",
    "ax1.set_xlabel('Intervalo de Dias')\n",
    "ax1.set_ylabel('Quantidade de Entregas')\n",
    "ax1.grid(linestyle='--', alpha=0.7)\n",
    "\n",
    "\n",
    "# Gráfico de linha - Ano 2023\n",
    "ax2.plot(x, y2, marker='o', linestyle='-', color='orange')\n",
    "ax2.set_title('Tendência de Entregas - atraso menor que 2h em 2023')\n",
    "ax2.set_xlabel('Intervalo de Dias')\n",
    "ax2.set_ylabel('Quantidade de Entregas')\n",
    "ax2.grid(linestyle='--', alpha=0.7)\n",
    "\n",
    "# Ajustar o layout\n",
    "plt.tight_layout();"
   ]
  },
  {
   "cell_type": "code",
   "execution_count": 48,
   "metadata": {},
   "outputs": [
    {
     "data": {
      "image/png": "[encoded data removed]",
      "text/plain": [
       "<Figure size 1400x600 with 2 Axes>"
      ]
     },
     "metadata": {},
     "output_type": "display_data"
    }
   ],
   "source": [
    "# Importando biblioteca para criar gráficos\n",
    "import matplotlib.pyplot as plt\n",
    "\n",
    "# Dados\n",
    "x = ['1-7 dias', '8-14 dias', '15-21 dias', '22-30 dias']\n",
    "y1 = [maior_7_2022, maior_8_a_14_2022, maior_15_a_21_2022, maior_22_a_31_2022]\n",
    "y2 = [maior_7_2023, maior_dia_8_a_14_2023, maior_dia_15_a_21_2023, maior_dia_22_a_31_2023]\n",
    "\n",
    "# Criando os gráficos lado a lado\n",
    "fig, (ax1, ax2) = plt.subplots(1, 2, figsize=(14, 6))\n",
    "\n",
    "# Gráfico de linha - Ano 2022\n",
    "ax1.plot(x, y1, marker='o', linestyle='-', color='teal')\n",
    "ax1.set_title('Tendência de Entregas - atraso maior que 2h em 2022')\n",
    "ax1.set_xlabel('Intervalo de Dias')\n",
    "ax1.set_ylabel('Quantidade de Entregas')\n",
    "ax1.grid(linestyle='--', alpha=0.7)\n",
    "\n",
    "\n",
    "# Gráfico de linha - Ano 2023\n",
    "ax2.plot(x, y2, marker='o', linestyle='-', color='orange')\n",
    "ax2.set_title('Tendência de Entregas - atraso maior que 2h em 2023')\n",
    "ax2.set_xlabel('Intervalo de Dias')\n",
    "ax2.set_ylabel('Quantidade de Entregas')\n",
    "ax2.grid(linestyle='--', alpha=0.7)\n",
    "\n",
    "# Ajustar o layout\n",
    "plt.tight_layout();"
   ]
  },
  {
   "cell_type": "code",
   "execution_count": 49,
   "metadata": {},
   "outputs": [
    {
     "data": {
      "image/png": "[encoded data removed]",
      "text/plain": [
       "<Figure size 1400x600 with 2 Axes>"
      ]
     },
     "metadata": {},
     "output_type": "display_data"
    }
   ],
   "source": [
    "# Importando biblioteca para criar gráficos\n",
    "import matplotlib.pyplot as plt\n",
    "\n",
    "# Dados\n",
    "x = ['1-7', '8-14', '15-21', '22-30']\n",
    "y1 = [sem_7_2022, sem_8_a_14_2022, sem_15_a_21_2022, sem_22_a_31_2022]\n",
    "y2 = [sem_7_2023, sem_8_a_14_2023, sem_15_a_21_2023, sem_22_a_31_2023]\n",
    "\n",
    "# Criando os gráficos lado a lado\n",
    "fig, (ax1, ax2) = plt.subplots(1, 2, figsize=(14, 6))\n",
    "\n",
    "# Gráfico de linha - Ano 2022\n",
    "ax1.plot(x, y1, marker='o', linestyle='-', color='teal')\n",
    "ax1.set_title('Tendência de Entregas - sem atraso em 2022')\n",
    "ax1.set_xlabel('Intervalo de Dias')\n",
    "ax1.set_ylabel('Quantidade de Entregas')\n",
    "ax1.grid(linestyle='--', alpha=0.7)\n",
    "\n",
    "# Gráfico de linha - Ano 2023\n",
    "ax2.plot(x, y2, marker='o', linestyle='-', color='orange')\n",
    "ax2.set_title('Tendência de Entregas - sem atraso em 2023')\n",
    "ax2.set_xlabel('Intervalo de Dias')\n",
    "ax2.set_ylabel('Quantidade de Entregas')\n",
    "ax2.grid(linestyle='--', alpha=0.7)\n",
    "\n",
    "# Ajustar o layout\n",
    "plt.tight_layout();"
   ]
  },
  {
   "cell_type": "code",
   "execution_count": 50,
   "metadata": {},
   "outputs": [
    {
     "data": {
      "text/plain": [
       "array(['Van', 'Caminhão', 'Moto'], dtype=object)"
      ]
     },
     "execution_count": 50,
     "metadata": {},
     "output_type": "execute_result"
    }
   ],
   "source": [
    "# Verificando valores únicos\n",
    "historico_entregas['Veiculo'].unique()"
   ]
  },
  {
   "cell_type": "code",
   "execution_count": 51,
   "metadata": {},
   "outputs": [
    {
     "name": "stdout",
     "output_type": "stream",
     "text": [
      "Tempo médio de entrega por veículo:\n",
      "Veiculo\n",
      "Caminhão    1.405405\n",
      "Moto        1.440000\n",
      "Van         1.552632\n",
      "Name: Tempo_Entrega, dtype: float64\n"
     ]
    }
   ],
   "source": [
    "# Agrupar por tipo de veículo e calcular a média de tempo de entrega\n",
    "tempo_medio_por_veiculo = historico_entregas.groupby('Veiculo')['Tempo_Entrega'].mean()\n",
    "\n",
    "# Exibir resultados\n",
    "print(\"Tempo médio de entrega por veículo:\")\n",
    "print(tempo_medio_por_veiculo)"
   ]
  },
  {
   "cell_type": "code",
   "execution_count": 52,
   "metadata": {},
   "outputs": [
    {
     "name": "stdout",
     "output_type": "stream",
     "text": [
      "{'Van': 8, 'Moto': 8, 'Caminhão': 3}\n"
     ]
    }
   ],
   "source": [
    "# Filtrar os dados e contar os valores\n",
    "resposta = historico_entregas.query('Atraso_h == 0')['Veiculo'].value_counts()\n",
    "\n",
    "# Transformando a resposta em um dicionário\n",
    "resposta_dict = resposta.to_dict()\n",
    "\n",
    "# Exibindo o resultado\n",
    "print(resposta_dict)"
   ]
  },
  {
   "cell_type": "code",
   "execution_count": 53,
   "metadata": {},
   "outputs": [
    {
     "name": "stdout",
     "output_type": "stream",
     "text": [
      "{'Caminhão': 10, 'Van': 8, 'Moto': 2}\n"
     ]
    }
   ],
   "source": [
    "# Filtrar os dados e contar os valores\n",
    "resposta = historico_entregas.query('Atraso_h == 1')['Veiculo'].value_counts()\n",
    "\n",
    "# Transformando a resposta em um dicionário\n",
    "resposta_dict = resposta.to_dict()\n",
    "\n",
    "# Exibindo o resultado\n",
    "print(resposta_dict)"
   ]
  },
  {
   "cell_type": "code",
   "execution_count": 54,
   "metadata": {},
   "outputs": [
    {
     "name": "stdout",
     "output_type": "stream",
     "text": [
      "{'Van': 7, 'Caminhão': 7, 'Moto': 7}\n"
     ]
    }
   ],
   "source": [
    "# Filtrar os dados e contar os valores\n",
    "resposta = historico_entregas.query('Atraso_h == 2')['Veiculo'].value_counts()\n",
    "\n",
    "# Transformando a resposta em um dicionário\n",
    "resposta_dict = resposta.to_dict()\n",
    "\n",
    "# Exibindo o resultado\n",
    "print(resposta_dict)"
   ]
  },
  {
   "cell_type": "code",
   "execution_count": 55,
   "metadata": {},
   "outputs": [
    {
     "name": "stdout",
     "output_type": "stream",
     "text": [
      "{'Caminhão': 10, 'Van': 6, 'Moto': 5}\n"
     ]
    }
   ],
   "source": [
    "# Filtrar os dados e contar os valores\n",
    "resposta = historico_entregas.query('Atraso_h == 3')['Veiculo'].value_counts()\n",
    "\n",
    "# Transformando a resposta em um dicionário\n",
    "resposta_dict = resposta.to_dict()\n",
    "\n",
    "# Exibindo o resultado\n",
    "print(resposta_dict)"
   ]
  },
  {
   "cell_type": "code",
   "execution_count": 56,
   "metadata": {},
   "outputs": [
    {
     "name": "stdout",
     "output_type": "stream",
     "text": [
      "{'Van': 9, 'Caminhão': 7, 'Moto': 3}\n"
     ]
    }
   ],
   "source": [
    "# Filtrar os dados e contar os valores\n",
    "resposta = historico_entregas.query('Atraso_h == 4')['Veiculo'].value_counts()\n",
    "\n",
    "# Transformando a resposta em um dicionário\n",
    "resposta_dict = resposta.to_dict()\n",
    "\n",
    "# Exibindo o resultado\n",
    "print(resposta_dict)"
   ]
  },
  {
   "cell_type": "code",
   "execution_count": 57,
   "metadata": {},
   "outputs": [
    {
     "data": {
      "image/png": "[encoded data removed]",
      "text/plain": [
       "<Figure size 1000x600 with 1 Axes>"
      ]
     },
     "metadata": {},
     "output_type": "display_data"
    }
   ],
   "source": [
    "# Importando biblioteca para criar gráfico\n",
    "import matplotlib.pyplot as plt\n",
    "\n",
    "# Dados\n",
    "atrasos = ['0', '1', '2', '3', '4']\n",
    "veiculos = ['Van', 'Moto', 'Caminhão']\n",
    "dados = {\n",
    "    '0': {'Van': 8, 'Moto': 8, 'Caminhão': 3},\n",
    "    '1': {'Caminhão': 10, 'Van': 8, 'Moto': 2},\n",
    "    '2': {'Van': 7, 'Caminhão': 7, 'Moto': 7},\n",
    "    '3': {'Caminhão': 10, 'Van': 6, 'Moto': 5},\n",
    "    '4': {'Van': 9, 'Caminhão': 7, 'Moto': 3}\n",
    "}\n",
    "\n",
    "cores = {'Van': 'red', 'Moto': 'blue', 'Caminhão': 'green'}\n",
    "\n",
    "# Configuração do gráfico\n",
    "plt.figure(figsize=(10, 6))\n",
    "barWidth = 0.2  # Largura das barras\n",
    "r = range(len(atrasos))\n",
    "\n",
    "# Criando barras empilhadas\n",
    "for idx, veiculo in enumerate(veiculos):\n",
    "    # Valores do veículo atual\n",
    "    valores_veiculo = [dados[cat][veiculo] for cat in atrasos]\n",
    "    # Posicionamento das barras\n",
    "    posicao = [x + idx * barWidth for x in r]\n",
    "    # Criando as barras\n",
    "    plt.bar(posicao, valores_veiculo, color=cores[veiculo], edgecolor='white', width=barWidth, label=veiculo)\n",
    "    # Adicionando rótulos\n",
    "    for j, valor in enumerate(valores_veiculo):\n",
    "        plt.text(posicao[j], valor + 0.1, str(valor), ha='center', va='bottom')\n",
    "\n",
    "# Título e configurações\n",
    "plt.title('Total de Veículos por Atraso')\n",
    "plt.xlabel('Atrasos (em horas)')\n",
    "plt.xticks([x + barWidth for x in r], atrasos)\n",
    "plt.legend(bbox_to_anchor=(1.05, 1), loc='upper left')\n",
    "plt.grid(axis='y', linestyle='--')\n",
    "plt.yticks([])\n",
    "plt.show()\n"
   ]
  },
  {
   "cell_type": "code",
   "execution_count": 58,
   "metadata": {},
   "outputs": [
    {
     "data": {
      "text/plain": [
       "10"
      ]
     },
     "execution_count": 58,
     "metadata": {},
     "output_type": "execute_result"
    }
   ],
   "source": [
    "# Verificando valores únicos\n",
    "historico_entregas['Motorista_ID'].nunique()"
   ]
  },
  {
   "cell_type": "code",
   "execution_count": 59,
   "metadata": {},
   "outputs": [
    {
     "data": {
      "text/plain": [
       "Veiculo   Motorista_ID\n",
       "Van       205             3\n",
       "Moto      202             2\n",
       "Caminhão  201             1\n",
       "          203             1\n",
       "          207             1\n",
       "Moto      201             1\n",
       "          204             1\n",
       "          205             1\n",
       "          206             1\n",
       "          207             1\n",
       "          209             1\n",
       "Van       201             1\n",
       "          203             1\n",
       "          204             1\n",
       "          206             1\n",
       "          207             1\n",
       "Name: count, dtype: int64"
      ]
     },
     "execution_count": 59,
     "metadata": {},
     "output_type": "execute_result"
    }
   ],
   "source": [
    "# Filtrando sem atrasos por veículo e motorista\n",
    "atraso_0 = historico_entregas.query('Atraso_h == 0')[['Veiculo','Motorista_ID']].value_counts()\n",
    "\n",
    "# Exibir resultado\n",
    "atraso_0"
   ]
  },
  {
   "cell_type": "code",
   "execution_count": 60,
   "metadata": {},
   "outputs": [
    {
     "data": {
      "text/plain": [
       "Veiculo   Motorista_ID\n",
       "Van       209             3\n",
       "Caminhão  203             2\n",
       "          208             2\n",
       "          201             1\n",
       "          202             1\n",
       "          205             1\n",
       "          206             1\n",
       "          207             1\n",
       "          209             1\n",
       "Moto      203             1\n",
       "          206             1\n",
       "Van       201             1\n",
       "          202             1\n",
       "          204             1\n",
       "          206             1\n",
       "          210             1\n",
       "Name: count, dtype: int64"
      ]
     },
     "execution_count": 60,
     "metadata": {},
     "output_type": "execute_result"
    }
   ],
   "source": [
    "# Filtrando uma hora de atraso\n",
    "atraso_1h = historico_entregas.query('Atraso_h == 1')[['Veiculo','Motorista_ID']].value_counts()\n",
    "\n",
    "# Exibir resultado\n",
    "atraso_1h"
   ]
  },
  {
   "cell_type": "code",
   "execution_count": 61,
   "metadata": {},
   "outputs": [
    {
     "data": {
      "text/plain": [
       "Veiculo   Motorista_ID\n",
       "Moto      208             2\n",
       "Van       208             2\n",
       "Moto      205             2\n",
       "Caminhão  201             1\n",
       "Van       206             1\n",
       "          205             1\n",
       "          203             1\n",
       "          202             1\n",
       "Moto      210             1\n",
       "          207             1\n",
       "Caminhão  203             1\n",
       "Moto      203             1\n",
       "Caminhão  210             1\n",
       "          209             1\n",
       "          208             1\n",
       "          207             1\n",
       "          205             1\n",
       "Van       209             1\n",
       "Name: count, dtype: int64"
      ]
     },
     "execution_count": 61,
     "metadata": {},
     "output_type": "execute_result"
    }
   ],
   "source": [
    "# Filtrando duas horas de atrasos\n",
    "atraso_2h = historico_entregas.query('Atraso_h == 2')[['Veiculo','Motorista_ID']].value_counts()\n",
    "\n",
    "# Exibir resultado\n",
    "atraso_2h"
   ]
  },
  {
   "cell_type": "code",
   "execution_count": 62,
   "metadata": {},
   "outputs": [
    {
     "data": {
      "text/plain": [
       "Veiculo   Motorista_ID\n",
       "Caminhão  202             2\n",
       "          203             2\n",
       "          207             2\n",
       "Moto      201             2\n",
       "          210             2\n",
       "Van       201             2\n",
       "Caminhão  201             1\n",
       "          206             1\n",
       "          208             1\n",
       "          210             1\n",
       "Moto      208             1\n",
       "Van       203             1\n",
       "          205             1\n",
       "          208             1\n",
       "          209             1\n",
       "Name: count, dtype: int64"
      ]
     },
     "execution_count": 62,
     "metadata": {},
     "output_type": "execute_result"
    }
   ],
   "source": [
    "# Filtrando três horas de atraso\n",
    "atraso_3h = historico_entregas.query('Atraso_h == 3')[['Veiculo','Motorista_ID']].value_counts()\n",
    "\n",
    "# Exibir resultado\n",
    "atraso_3h"
   ]
  },
  {
   "cell_type": "code",
   "execution_count": 63,
   "metadata": {},
   "outputs": [
    {
     "data": {
      "text/plain": [
       "Veiculo   Motorista_ID\n",
       "Caminhão  204             4\n",
       "Moto      204             2\n",
       "Van       201             2\n",
       "          205             2\n",
       "          206             2\n",
       "          208             2\n",
       "Caminhão  201             1\n",
       "          206             1\n",
       "          210             1\n",
       "Moto      207             1\n",
       "Van       203             1\n",
       "Name: count, dtype: int64"
      ]
     },
     "execution_count": 63,
     "metadata": {},
     "output_type": "execute_result"
    }
   ],
   "source": [
    "# Filtrando quatro hora de atraso \n",
    "atraso_4h = historico_entregas.query('Atraso_h == 4')[['Veiculo','Motorista_ID']].value_counts()\n",
    "\n",
    "# Exibir resultado\n",
    "atraso_4h"
   ]
  },
  {
   "cell_type": "code",
   "execution_count": 68,
   "metadata": {},
   "outputs": [
    {
     "name": "stdout",
     "output_type": "stream",
     "text": [
      "Quantidade de uma hora de atraso = 20\n",
      "Quantidade de duas horas de atrasos = 21\n",
      "Quantidade de três horas de atrasos = 21\n",
      "Quantidade de quatro horas = 19\n",
      "Quantidade: sem atrasos = 19\n"
     ]
    }
   ],
   "source": [
    "# Contagem de cada hora de atraso\n",
    "print(f'Quantidade de uma hora de atraso = {atraso_1h.sum()}')\n",
    "print(f'Quantidade de duas horas de atrasos = {atraso_2h.sum()}')\n",
    "print(f'Quantidade de três horas de atrasos = {atraso_3h.sum()}')\n",
    "print(f'Quantidade de quatro horas = {atraso_4h.sum()}')\n",
    "print(f'Quantidade: sem atrasos = {atraso_0.sum()}')"
   ]
  },
  {
   "cell_type": "code",
   "execution_count": 69,
   "metadata": {},
   "outputs": [
    {
     "data": {
      "image/png": "[encoded data removed]",
      "text/plain": [
       "<Figure size 1000x500 with 1 Axes>"
      ]
     },
     "metadata": {},
     "output_type": "display_data"
    }
   ],
   "source": [
    "# Importando biblioteca para criar gráfico\n",
    "import matplotlib.pyplot as plt\n",
    "\n",
    "# Dados\n",
    "x = ['0', '1', '2', '3','4']  # horas de atrasos\n",
    "y = [19, 20, 21, 21,19]  # Quantidade de atrasos\n",
    "\n",
    "# Configuração do gráfico\n",
    "plt.figure(figsize=(10, 5))\n",
    "plt.bar(range(len(x)), y, color='blue')  # Usando o range do comprimento de x para as posições\n",
    "\n",
    "# Título e rótulos dos eixos\n",
    "plt.title('Comparação entre os Atrasos')\n",
    "plt.xlabel('horas')\n",
    "plt.yticks([])\n",
    "\n",
    "# Adicionar rótulos personalizados no eixo x\n",
    "plt.xticks(ticks=range(len(x)), labels=x)\n",
    "\n",
    "# Adicionar valores sobre as barras\n",
    "for i in range(len(y)):\n",
    "    plt.text(i, y[i], str(y[i]), ha='center', va='bottom', fontsize=10)\n",
    "\n",
    "# Mostrar o gráfico\n",
    "plt.show()\n"
   ]
  },
  {
   "cell_type": "code",
   "execution_count": 70,
   "metadata": {},
   "outputs": [
    {
     "name": "stdout",
     "output_type": "stream",
     "text": [
      "Motorista com mais atrasos em quantidade: Alejandro Roberson (Veículo: Caminhão)\n",
      "Número de atrasos: 14\n"
     ]
    }
   ],
   "source": [
    "# Agrupar por Motorista_ID e contar o número de ocorrências de atrasos\n",
    "motorista_atrasos = historico_entregas.groupby('Motorista_ID')['Atraso_h'].count()\n",
    "\n",
    "# Encontrar o motorista com o maior número de atrasos\n",
    "motorista_mais_atrasos_id = motorista_atrasos.idxmax()\n",
    "maior_quantidade = motorista_atrasos.max()\n",
    "\n",
    "# Obter o nome do motorista e o veículo associado\n",
    "motorista_mais_atrasos = motorista[motorista['Motorista_ID'] == motorista_mais_atrasos_id]['Nome'].values[0]\n",
    "veiculo_associado = historico_entregas[historico_entregas['Motorista_ID'] == motorista_mais_atrasos_id]['Veiculo'].iloc[0]\n",
    "\n",
    "# Exibir resultado\n",
    "print(f\"Motorista com mais atrasos em quantidade: {motorista_mais_atrasos} (Veículo: {veiculo_associado})\")\n",
    "print(f\"Número de atrasos: {maior_quantidade}\")\n"
   ]
  },
  {
   "cell_type": "code",
   "execution_count": 71,
   "metadata": {},
   "outputs": [
    {
     "name": "stdout",
     "output_type": "stream",
     "text": [
      "Somente um motorista tem o maior atraso.\n"
     ]
    },
    {
     "name": "stderr",
     "output_type": "stream",
     "text": [
      "C:\\Users\\Usuário\\AppData\\Local\\Temp\\ipykernel_12796\\3739250332.py:5: UserWarning: Boolean Series key will be reindexed to match DataFrame index.\n",
      "  motoristas_com_maior_atraso = motorista[historico_entregas['Motorista_ID'] == maior_atraso]\n"
     ]
    }
   ],
   "source": [
    "# Encontrar o valor máximo de atraso\n",
    "maior_atraso = historico_entregas['Atraso_h'].max()\n",
    "\n",
    "# Filtrar motoristas com o mesmo valor de atraso\n",
    "motoristas_com_maior_atraso = motorista[historico_entregas['Motorista_ID'] == maior_atraso]\n",
    "\n",
    "# Verificar se existe mais de um motorista com o maior atraso\n",
    "if len(motoristas_com_maior_atraso) > 1:\n",
    "    print(\"Existem motoristas com o mesmo valor de maior atraso:\")\n",
    "    print(motoristas_com_maior_atraso[['Motorista_ID', 'Veiculo', 'Atraso_h']])\n",
    "else:\n",
    "    print(\"Somente um motorista tem o maior atraso.\")\n"
   ]
  },
  {
   "cell_type": "code",
   "execution_count": 72,
   "metadata": {},
   "outputs": [
    {
     "name": "stdout",
     "output_type": "stream",
     "text": [
      "   Motorista_ID                Nome  Experiencia_anos  Avaliacao\n",
      "0           201  Alejandro Roberson                 9        3.7\n"
     ]
    }
   ],
   "source": [
    "# Filtrar informações\n",
    "motorista_especifico = motorista[motorista['Nome'] == \"Alejandro Roberson\"]\n",
    "\n",
    "# Exibir resultado\n",
    "print(motorista_especifico[['Motorista_ID', 'Nome','Experiencia_anos', 'Avaliacao']])"
   ]
  },
  {
   "cell_type": "code",
   "execution_count": 73,
   "metadata": {},
   "outputs": [
    {
     "name": "stdout",
     "output_type": "stream",
     "text": [
      "Existem motoristas com o mesmo valor de maior atraso:\n",
      "    Motorista_ID   Veiculo  Atraso_h\n",
      "4            204      Moto         4\n",
      "8            204  Caminhão         4\n",
      "10           201  Caminhão         4\n",
      "12           206  Caminhão         4\n",
      "13           205       Van         4\n",
      "14           204  Caminhão         4\n",
      "17           206       Van         4\n",
      "27           204  Caminhão         4\n",
      "35           207      Moto         4\n",
      "45           203       Van         4\n",
      "46           201       Van         4\n",
      "53           205       Van         4\n",
      "57           210  Caminhão         4\n",
      "58           204      Moto         4\n",
      "64           208       Van         4\n",
      "66           208       Van         4\n",
      "71           201       Van         4\n",
      "92           204  Caminhão         4\n",
      "95           206       Van         4\n"
     ]
    }
   ],
   "source": [
    "# Encontrar o valor máximo de atraso\n",
    "maior_atraso = historico_entregas['Atraso_h'].max()\n",
    "\n",
    "# Filtrar motoristas com o mesmo valor de atraso\n",
    "motoristas_com_maior_atraso = historico_entregas[historico_entregas['Atraso_h'] == maior_atraso]\n",
    "\n",
    "# Verificar se existe mais de um motorista com o maior atraso\n",
    "if len(motoristas_com_maior_atraso) > 1:\n",
    "    print(\"Existem motoristas com o mesmo valor de maior atraso:\")\n",
    "    print(motoristas_com_maior_atraso[['Motorista_ID', 'Veiculo', 'Atraso_h']])\n",
    "else:\n",
    "    print(\"Somente um motorista tem o maior atraso.\")"
   ]
  },
  {
   "cell_type": "code",
   "execution_count": 74,
   "metadata": {},
   "outputs": [
    {
     "name": "stdout",
     "output_type": "stream",
     "text": [
      "Quatidade de atrasos por ID\n",
      "Motorista_ID\n",
      "204    6\n",
      "201    3\n",
      "206    3\n",
      "205    2\n",
      "208    2\n",
      "207    1\n",
      "203    1\n",
      "210    1\n",
      "Name: count, dtype: int64\n"
     ]
    }
   ],
   "source": [
    "# Filtrar motoristas com o maior atraso\n",
    "motoristas_com_maior_atraso = historico_entregas[historico_entregas['Atraso_h'] == maior_atraso]\n",
    "\n",
    "# Contar a quantidade de vezes que cada Motorista_ID aparece\n",
    "quantidade_por_motorista = motoristas_com_maior_atraso['Motorista_ID'].value_counts()\n",
    "\n",
    "# Exibir o resultado\n",
    "print('Quatidade de atrasos por ID')\n",
    "print(quantidade_por_motorista)"
   ]
  },
  {
   "cell_type": "code",
   "execution_count": 75,
   "metadata": {},
   "outputs": [
    {
     "name": "stdout",
     "output_type": "stream",
     "text": [
      "Hora em atraso:\n",
      "Veículo: Moto\n",
      "ID associado: 204\n",
      "Nome do motorista: Samuel Roberts\n",
      "Atraso: 4 horas\n"
     ]
    }
   ],
   "source": [
    "# Exibir o maior atraso e o motorista \n",
    "indice_maior_atraso = motoristas_com_maior_atraso['Atraso_h'].idxmax()\n",
    "motorista_maior_atraso = historico_entregas.loc[indice_maior_atraso, 'Veiculo']\n",
    "id_maior_atraso = historico_entregas.loc[indice_maior_atraso, 'Motorista_ID']\n",
    "quantidade_atraso = historico_entregas.loc[indice_maior_atraso, 'Atraso_h']\n",
    "\n",
    "# Procurar o nome no DataFrame motorista\n",
    "nome_maior_atraso = motorista.loc[motorista['Motorista_ID'] == id_maior_atraso, 'Nome'].values[0]\n",
    "\n",
    "# Exibir os resultados\n",
    "print('Maior atraso individual:')\n",
    "print(f\"Veículo: {motorista_maior_atraso}\")\n",
    "print(f\"ID associado: {id_maior_atraso}\")\n",
    "print(f\"Nome do motorista: {nome_maior_atraso}\")\n",
    "print(f\"Atraso: {quantidade_atraso} horas\")"
   ]
  },
  {
   "cell_type": "code",
   "execution_count": 76,
   "metadata": {},
   "outputs": [
    {
     "name": "stdout",
     "output_type": "stream",
     "text": [
      "   Motorista_ID            Nome  Experiencia_anos  Avaliacao\n",
      "3           204  Samuel Roberts                 5        3.9\n"
     ]
    }
   ],
   "source": [
    "# Filtrar o motorista com 'ID 204'\n",
    "motorista_especifico = motorista[motorista['Motorista_ID'] == 204]\n",
    "\n",
    "# Exibir as informações do motorista, incluindo avaliação (se houver uma coluna específica para isso)\n",
    "print(motorista_especifico[['Motorista_ID', 'Nome', 'Experiencia_anos', 'Avaliacao']])"
   ]
  },
  {
   "cell_type": "code",
   "execution_count": 77,
   "metadata": {},
   "outputs": [
    {
     "data": {
      "image/png": "[encoded data removed]",
      "text/plain": [
       "<Figure size 800x600 with 1 Axes>"
      ]
     },
     "metadata": {},
     "output_type": "display_data"
    }
   ],
   "source": [
    "# Agrupar atrasos por veículo\n",
    "atrasos_por_veiculo = historico_entregas.groupby('Veiculo')['Atraso_h'].mean()\n",
    "\n",
    "# Gráfico de barras\n",
    "ax = atrasos_por_veiculo.plot(kind='bar', color='skyblue', figsize=(8, 6))\n",
    "plt.title(\"Atraso Médio por Tipo de Veículo\")\n",
    "plt.xlabel(\"Tipo de Veículo\")\n",
    "plt.xticks(rotation=45)\n",
    "plt.yticks([])\n",
    "\n",
    "# Adicionar valores em cima das barras\n",
    "for i, valor in enumerate(atrasos_por_veiculo):\n",
    "    plt.text(i, valor + 0.03, f'{valor:.2f}', ha='center', va='bottom', fontsize=10)\n",
    "\n",
    "plt.show()"
   ]
  },
  {
   "cell_type": "code",
   "execution_count": 78,
   "metadata": {},
   "outputs": [],
   "source": [
    "# Copiando base de dado para preservando o original\n",
    "copia_historico_entrega = historico_entregas.copy()"
   ]
  },
  {
   "cell_type": "code",
   "execution_count": 79,
   "metadata": {},
   "outputs": [
    {
     "name": "stdout",
     "output_type": "stream",
     "text": [
      "         Local_Entrega\n",
      "0  Belo Horizonte - MG\n",
      "1  Rio de Janeiro - RJ\n",
      "2  Rio de Janeiro - RJ\n"
     ]
    }
   ],
   "source": [
    "# Tranformar em dataframe\n",
    "novo_dataframe = pedidos[['Local_Entrega']].copy()\n",
    "\n",
    "# Exibir resultado\n",
    "print(novo_dataframe.head(3))"
   ]
  },
  {
   "cell_type": "code",
   "execution_count": 80,
   "metadata": {},
   "outputs": [
    {
     "data": {
      "text/html": [
       "<div>\n",
       "<style scoped>\n",
       "    .dataframe tbody tr th:only-of-type {\n",
       "        vertical-align: middle;\n",
       "    }\n",
       "\n",
       "    .dataframe tbody tr th {\n",
       "        vertical-align: top;\n",
       "    }\n",
       "\n",
       "    .dataframe thead th {\n",
       "        text-align: right;\n",
       "    }\n",
       "</style>\n",
       "<table border=\"1\" class=\"dataframe\">\n",
       "  <thead>\n",
       "    <tr style=\"text-align: right;\">\n",
       "      <th></th>\n",
       "      <th>Entrega_ID</th>\n",
       "      <th>Pedido_ID</th>\n",
       "      <th>Data_Coleta</th>\n",
       "      <th>Data_Entrega</th>\n",
       "      <th>Veiculo</th>\n",
       "      <th>Motorista_ID</th>\n",
       "      <th>Atraso_h</th>\n",
       "      <th>Nao_Padrao</th>\n",
       "      <th>Tempo_Entrega</th>\n",
       "      <th>Ano</th>\n",
       "      <th>Mes</th>\n",
       "      <th>Dia</th>\n",
       "      <th>Local_Entrega</th>\n",
       "    </tr>\n",
       "  </thead>\n",
       "  <tbody>\n",
       "    <tr>\n",
       "      <th>0</th>\n",
       "      <td>501</td>\n",
       "      <td>1</td>\n",
       "      <td>2022-11-01</td>\n",
       "      <td>2022-11-02</td>\n",
       "      <td>Van</td>\n",
       "      <td>205</td>\n",
       "      <td>0</td>\n",
       "      <td>True</td>\n",
       "      <td>1.0</td>\n",
       "      <td>2022</td>\n",
       "      <td>11</td>\n",
       "      <td>2</td>\n",
       "      <td>Belo Horizonte - MG</td>\n",
       "    </tr>\n",
       "    <tr>\n",
       "      <th>1</th>\n",
       "      <td>502</td>\n",
       "      <td>2</td>\n",
       "      <td>2022-11-02</td>\n",
       "      <td>2022-11-03</td>\n",
       "      <td>Caminhão</td>\n",
       "      <td>206</td>\n",
       "      <td>3</td>\n",
       "      <td>True</td>\n",
       "      <td>1.0</td>\n",
       "      <td>2022</td>\n",
       "      <td>11</td>\n",
       "      <td>3</td>\n",
       "      <td>Rio de Janeiro - RJ</td>\n",
       "    </tr>\n",
       "  </tbody>\n",
       "</table>\n",
       "</div>"
      ],
      "text/plain": [
       "   Entrega_ID  Pedido_ID Data_Coleta Data_Entrega   Veiculo  Motorista_ID  \\\n",
       "0         501          1  2022-11-01   2022-11-02       Van           205   \n",
       "1         502          2  2022-11-02   2022-11-03  Caminhão           206   \n",
       "\n",
       "   Atraso_h  Nao_Padrao  Tempo_Entrega   Ano  Mes  Dia        Local_Entrega  \n",
       "0         0        True            1.0  2022   11    2  Belo Horizonte - MG  \n",
       "1         3        True            1.0  2022   11    3  Rio de Janeiro - RJ  "
      ]
     },
     "execution_count": 80,
     "metadata": {},
     "output_type": "execute_result"
    }
   ],
   "source": [
    "# Abrir a base de dados\n",
    "df_concatenar = pd.concat([copia_historico_entrega, novo_dataframe], axis =1)\n",
    "\n",
    "# Exibir 2 linhas\n",
    "df_concatenar.head(2)"
   ]
  },
  {
   "cell_type": "code",
   "execution_count": 81,
   "metadata": {},
   "outputs": [],
   "source": [
    "# Criar um dicionário com informações de 'Origem_Local' e 'Tempo_Estimado' (base de dado 'taxa_entraga')\n",
    "tempo_estimado_por_estado = {\n",
    "    'São Paulo - SP': 1,  # São Paulo: 12 horas\n",
    "    'Rio de Janeiro - RJ': 6,  # Rio de Janeiro: 24 horas\n",
    "    'Belo Horizonte - MG': 8  # Minas Gerais: 18 horas\n",
    "}"
   ]
  },
  {
   "cell_type": "code",
   "execution_count": 82,
   "metadata": {},
   "outputs": [
    {
     "data": {
      "text/html": [
       "<div>\n",
       "<style scoped>\n",
       "    .dataframe tbody tr th:only-of-type {\n",
       "        vertical-align: middle;\n",
       "    }\n",
       "\n",
       "    .dataframe tbody tr th {\n",
       "        vertical-align: top;\n",
       "    }\n",
       "\n",
       "    .dataframe thead th {\n",
       "        text-align: right;\n",
       "    }\n",
       "</style>\n",
       "<table border=\"1\" class=\"dataframe\">\n",
       "  <thead>\n",
       "    <tr style=\"text-align: right;\">\n",
       "      <th></th>\n",
       "      <th>Entrega_ID</th>\n",
       "      <th>Pedido_ID</th>\n",
       "      <th>Data_Coleta</th>\n",
       "      <th>Data_Entrega</th>\n",
       "      <th>Veiculo</th>\n",
       "      <th>Motorista_ID</th>\n",
       "      <th>Atraso_h</th>\n",
       "      <th>Nao_Padrao</th>\n",
       "      <th>Tempo_Entrega</th>\n",
       "      <th>Ano</th>\n",
       "      <th>Mes</th>\n",
       "      <th>Dia</th>\n",
       "      <th>Local_Entrega</th>\n",
       "      <th>Tempo_Estimado</th>\n",
       "    </tr>\n",
       "  </thead>\n",
       "  <tbody>\n",
       "    <tr>\n",
       "      <th>0</th>\n",
       "      <td>501</td>\n",
       "      <td>1</td>\n",
       "      <td>2022-11-01</td>\n",
       "      <td>2022-11-02</td>\n",
       "      <td>Van</td>\n",
       "      <td>205</td>\n",
       "      <td>0</td>\n",
       "      <td>True</td>\n",
       "      <td>1.0</td>\n",
       "      <td>2022</td>\n",
       "      <td>11</td>\n",
       "      <td>2</td>\n",
       "      <td>Belo Horizonte - MG</td>\n",
       "      <td>8</td>\n",
       "    </tr>\n",
       "    <tr>\n",
       "      <th>1</th>\n",
       "      <td>502</td>\n",
       "      <td>2</td>\n",
       "      <td>2022-11-02</td>\n",
       "      <td>2022-11-03</td>\n",
       "      <td>Caminhão</td>\n",
       "      <td>206</td>\n",
       "      <td>3</td>\n",
       "      <td>True</td>\n",
       "      <td>1.0</td>\n",
       "      <td>2022</td>\n",
       "      <td>11</td>\n",
       "      <td>3</td>\n",
       "      <td>Rio de Janeiro - RJ</td>\n",
       "      <td>6</td>\n",
       "    </tr>\n",
       "  </tbody>\n",
       "</table>\n",
       "</div>"
      ],
      "text/plain": [
       "   Entrega_ID  Pedido_ID Data_Coleta Data_Entrega   Veiculo  Motorista_ID  \\\n",
       "0         501          1  2022-11-01   2022-11-02       Van           205   \n",
       "1         502          2  2022-11-02   2022-11-03  Caminhão           206   \n",
       "\n",
       "   Atraso_h  Nao_Padrao  Tempo_Entrega   Ano  Mes  Dia        Local_Entrega  \\\n",
       "0         0        True            1.0  2022   11    2  Belo Horizonte - MG   \n",
       "1         3        True            1.0  2022   11    3  Rio de Janeiro - RJ   \n",
       "\n",
       "   Tempo_Estimado  \n",
       "0               8  \n",
       "1               6  "
      ]
     },
     "execution_count": 82,
     "metadata": {},
     "output_type": "execute_result"
    }
   ],
   "source": [
    "# Criar uma coluna e mapear\n",
    "df_concatenar['Tempo_Estimado'] = df_concatenar['Local_Entrega'].map(tempo_estimado_por_estado)\n",
    "\n",
    "# Exibir 2 linhas\n",
    "df_concatenar.head(2)"
   ]
  },
  {
   "cell_type": "code",
   "execution_count": 83,
   "metadata": {},
   "outputs": [
    {
     "name": "stdout",
     "output_type": "stream",
     "text": [
      "Local_Entrega\n",
      "Belo Horizonte - MG    1.000000\n",
      "Rio de Janeiro - RJ    1.000000\n",
      "São Paulo - SP         0.354839\n",
      "Name: Entrega_No_Tempo, dtype: float64\n"
     ]
    }
   ],
   "source": [
    "# Criar coluna \n",
    "df_concatenar['Entrega_No_Tempo'] = df_concatenar['Atraso_h'] <= df_concatenar['Tempo_Estimado']\n",
    "\n",
    "# Cáculo da média tempo de entrega por cidade\n",
    "desempenho_cidade = df_concatenar.groupby('Local_Entrega')['Entrega_No_Tempo'].mean()\n",
    "\n",
    "# Exibir resultado\n",
    "print(desempenho_cidade)"
   ]
  },
  {
   "cell_type": "code",
   "execution_count": 84,
   "metadata": {},
   "outputs": [
    {
     "name": "stdout",
     "output_type": "stream",
     "text": [
      "Local_Entrega\n",
      "Belo Horizonte - MG   -6.161290\n",
      "Rio de Janeiro - RJ   -3.947368\n",
      "São Paulo - SP         1.129032\n",
      "Name: Atraso_Real, dtype: float64\n"
     ]
    }
   ],
   "source": [
    "# Criar coluna \n",
    "df_concatenar['Atraso_Real'] = df_concatenar['Atraso_h'] - df_concatenar['Tempo_Estimado']\n",
    "\n",
    "# Cáculo da média atraso real por cidade \n",
    "atraso_medio_cidade = df_concatenar.groupby('Local_Entrega')['Atraso_Real'].mean()\n",
    "\n",
    "# Exibir resultado\n",
    "print(atraso_medio_cidade)"
   ]
  },
  {
   "cell_type": "code",
   "execution_count": 85,
   "metadata": {},
   "outputs": [
    {
     "name": "stdout",
     "output_type": "stream",
     "text": [
      "Local_Entrega\n",
      "Belo Horizonte - MG     0.000000\n",
      "Rio de Janeiro - RJ     0.000000\n",
      "São Paulo - SP         64.516129\n",
      "Name: Atraso, dtype: float64\n"
     ]
    }
   ],
   "source": [
    "# Criar coluna\n",
    "df_concatenar['Atraso'] = df_concatenar['Atraso_h'] > df_concatenar['Tempo_Estimado']\n",
    "\n",
    "# Cáculo da média de atrasos por cidade\n",
    "percentual_atraso_cidade = df_concatenar.groupby('Local_Entrega')['Atraso'].mean() * 100\n",
    "\n",
    "# Exibir resultado\n",
    "print(percentual_atraso_cidade)"
   ]
  },
  {
   "cell_type": "code",
   "execution_count": 86,
   "metadata": {},
   "outputs": [
    {
     "name": "stdout",
     "output_type": "stream",
     "text": [
      "Local_Entrega\n",
      "Belo Horizonte - MG    1.838710\n",
      "Rio de Janeiro - RJ    2.052632\n",
      "São Paulo - SP         2.129032\n",
      "Name: Atraso_h, dtype: float64\n"
     ]
    }
   ],
   "source": [
    "# Agrupar por cidade e calcular a média\n",
    "media_atraso_cidade = df_concatenar.groupby('Local_Entrega')['Atraso_h'].mean()\n",
    "\n",
    "# Exibir resultado\n",
    "print(media_atraso_cidade)"
   ]
  },
  {
   "cell_type": "code",
   "execution_count": 87,
   "metadata": {},
   "outputs": [
    {
     "name": "stdout",
     "output_type": "stream",
     "text": [
      "                Estado  Taxa_Base  Taxa_Km  Taxa_volume  Distancia\n",
      "0       São Paulo - SP         10     0.50          2.0         20\n",
      "1  Rio de Janeiro - RJ         50     0.70          3.0        450\n",
      "2  Belo Horizonte - MG         70     0.75          3.5        580\n"
     ]
    }
   ],
   "source": [
    "# Dados\n",
    "dados = {\n",
    "    'Estado': ['São Paulo - SP', 'Rio de Janeiro - RJ', 'Belo Horizonte - MG'],\n",
    "    'Taxa_Base': [10, 50, 70],\n",
    "    'Taxa_Km': [0.50, 0.70, 0.75],  \n",
    "    'Taxa_volume': [2.0, 3.0, 3.5],\n",
    "    'Distancia': [20, 450, 580] \n",
    "}\n",
    "\n",
    "# Criando o DataFrame\n",
    "df2 = pd.DataFrame(dados)\n",
    "\n",
    "# Exibir resultado\n",
    "print(df2)"
   ]
  },
  {
   "cell_type": "code",
   "execution_count": 88,
   "metadata": {},
   "outputs": [],
   "source": [
    "# Copiando df para preservando o original\n",
    "copia_pedidos = pedidos.copy()"
   ]
  },
  {
   "cell_type": "code",
   "execution_count": 89,
   "metadata": {},
   "outputs": [
    {
     "data": {
      "text/html": [
       "<div>\n",
       "<style scoped>\n",
       "    .dataframe tbody tr th:only-of-type {\n",
       "        vertical-align: middle;\n",
       "    }\n",
       "\n",
       "    .dataframe tbody tr th {\n",
       "        vertical-align: top;\n",
       "    }\n",
       "\n",
       "    .dataframe thead th {\n",
       "        text-align: right;\n",
       "    }\n",
       "</style>\n",
       "<table border=\"1\" class=\"dataframe\">\n",
       "  <thead>\n",
       "    <tr style=\"text-align: right;\">\n",
       "      <th></th>\n",
       "      <th>Pedido_ID</th>\n",
       "      <th>Cliente_ID</th>\n",
       "      <th>Data_Pedido</th>\n",
       "      <th>Valor_Pedido</th>\n",
       "      <th>Local_Entrega</th>\n",
       "      <th>Volume (m³)</th>\n",
       "      <th>Peso (kg)</th>\n",
       "      <th>Status</th>\n",
       "      <th>Estado</th>\n",
       "      <th>Taxa_Base</th>\n",
       "      <th>Taxa_Km</th>\n",
       "      <th>Taxa_volume</th>\n",
       "      <th>Distancia</th>\n",
       "    </tr>\n",
       "  </thead>\n",
       "  <tbody>\n",
       "    <tr>\n",
       "      <th>0</th>\n",
       "      <td>1</td>\n",
       "      <td>45</td>\n",
       "      <td>2024-11-01</td>\n",
       "      <td>152.57</td>\n",
       "      <td>Belo Horizonte - MG</td>\n",
       "      <td>0.13</td>\n",
       "      <td>19.82</td>\n",
       "      <td>Entregue</td>\n",
       "      <td>Belo Horizonte - MG</td>\n",
       "      <td>70</td>\n",
       "      <td>0.75</td>\n",
       "      <td>3.5</td>\n",
       "      <td>580</td>\n",
       "    </tr>\n",
       "    <tr>\n",
       "      <th>1</th>\n",
       "      <td>2</td>\n",
       "      <td>18</td>\n",
       "      <td>2024-11-02</td>\n",
       "      <td>242.20</td>\n",
       "      <td>Rio de Janeiro - RJ</td>\n",
       "      <td>0.13</td>\n",
       "      <td>8.84</td>\n",
       "      <td>Em Trânsito</td>\n",
       "      <td>Rio de Janeiro - RJ</td>\n",
       "      <td>50</td>\n",
       "      <td>0.70</td>\n",
       "      <td>3.0</td>\n",
       "      <td>450</td>\n",
       "    </tr>\n",
       "  </tbody>\n",
       "</table>\n",
       "</div>"
      ],
      "text/plain": [
       "   Pedido_ID  Cliente_ID Data_Pedido  Valor_Pedido        Local_Entrega  \\\n",
       "0          1          45  2024-11-01        152.57  Belo Horizonte - MG   \n",
       "1          2          18  2024-11-02        242.20  Rio de Janeiro - RJ   \n",
       "\n",
       "   Volume (m³)  Peso (kg)       Status               Estado  Taxa_Base  \\\n",
       "0         0.13      19.82     Entregue  Belo Horizonte - MG         70   \n",
       "1         0.13       8.84  Em Trânsito  Rio de Janeiro - RJ         50   \n",
       "\n",
       "   Taxa_Km  Taxa_volume  Distancia  \n",
       "0     0.75          3.5        580  \n",
       "1     0.70          3.0        450  "
      ]
     },
     "execution_count": 89,
     "metadata": {},
     "output_type": "execute_result"
    }
   ],
   "source": [
    "# Fazendo o mapeamento pelo merge\n",
    "df_completo = pd.merge(\n",
    "    copia_pedidos,\n",
    "    df2,\n",
    "    left_on='Local_Entrega',  # Coluna do DataFrame pedidos\n",
    "    right_on='Estado',        # Coluna do DataFrame dados\n",
    "    how='left'                # Faz a união pela correspondência\n",
    ")\n",
    "\n",
    "# Exibindo 2 linhas\n",
    "df_completo.head(2)"
   ]
  },
  {
   "cell_type": "code",
   "execution_count": 90,
   "metadata": {},
   "outputs": [
    {
     "data": {
      "text/plain": [
       "0     505.455\n",
       "1     365.390\n",
       "2     367.520\n",
       "3     366.260\n",
       "4     365.630\n",
       "       ...   \n",
       "95    367.460\n",
       "96     20.700\n",
       "97    365.780\n",
       "98    367.340\n",
       "99    367.490\n",
       "Length: 100, dtype: float64"
      ]
     },
     "execution_count": 90,
     "metadata": {},
     "output_type": "execute_result"
    }
   ],
   "source": [
    "# Cálculo do custo total por entrega\n",
    "Custo_Total = df_completo['Taxa_Base'] + (df_completo['Taxa_Km'] * df_completo['Distancia']) + df_completo['Taxa_volume'] * df_completo['Volume (m³)']\n",
    "\n",
    "# Exibir resultado\n",
    "Custo_Total "
   ]
  },
  {
   "cell_type": "code",
   "execution_count": 91,
   "metadata": {},
   "outputs": [],
   "source": [
    "# Adicionar 'Custo_Total' na tabela \n",
    "df_completo['Custo_Total'] = Custo_Total"
   ]
  },
  {
   "cell_type": "code",
   "execution_count": 92,
   "metadata": {},
   "outputs": [
    {
     "name": "stdout",
     "output_type": "stream",
     "text": [
      "\n",
      "Correlação entre variáveis:\n",
      "              Custo_Total  Peso (kg)  Volume (m³)  Distancia\n",
      "Custo_Total     1.000000   0.094344     0.023748   0.997947\n",
      "Peso (kg)       0.094344   1.000000     0.166555   0.091940\n",
      "Volume (m³)     0.023748   0.166555     1.000000   0.022801\n",
      "Distancia       0.997947   0.091940     0.022801   1.000000\n"
     ]
    }
   ],
   "source": [
    "# Correlação\n",
    "correlacoes = df_completo[['Custo_Total', 'Peso (kg)', 'Volume (m³)', 'Distancia']].corr()\n",
    "\n",
    "# Exibir resultado\n",
    "print(\"\\nCorrelação entre variáveis:\\n\", correlacoes)"
   ]
  },
  {
   "cell_type": "code",
   "execution_count": 93,
   "metadata": {},
   "outputs": [
    {
     "data": {
      "text/html": [
       "<style>#sk-container-id-1 {\n",
       "  /* Definition of color scheme common for light and dark mode */\n",
       "  --sklearn-color-text: black;\n",
       "  --sklearn-color-line: gray;\n",
       "  /* Definition of color scheme for unfitted estimators */\n",
       "  --sklearn-color-unfitted-level-0: #fff5e6;\n",
       "  --sklearn-color-unfitted-level-1: #f6e4d2;\n",
       "  --sklearn-color-unfitted-level-2: #ffe0b3;\n",
       "  --sklearn-color-unfitted-level-3: chocolate;\n",
       "  /* Definition of color scheme for fitted estimators */\n",
       "  --sklearn-color-fitted-level-0: #f0f8ff;\n",
       "  --sklearn-color-fitted-level-1: #d4ebff;\n",
       "  --sklearn-color-fitted-level-2: #b3dbfd;\n",
       "  --sklearn-color-fitted-level-3: cornflowerblue;\n",
       "\n",
       "  /* Specific color for light theme */\n",
       "  --sklearn-color-text-on-default-background: var(--sg-text-color, var(--theme-code-foreground, var(--jp-content-font-color1, black)));\n",
       "  --sklearn-color-background: var(--sg-background-color, var(--theme-background, var(--jp-layout-color0, white)));\n",
       "  --sklearn-color-border-box: var(--sg-text-color, var(--theme-code-foreground, var(--jp-content-font-color1, black)));\n",
       "  --sklearn-color-icon: #696969;\n",
       "\n",
       "  @media (prefers-color-scheme: dark) {\n",
       "    /* Redefinition of color scheme for dark theme */\n",
       "    --sklearn-color-text-on-default-background: var(--sg-text-color, var(--theme-code-foreground, var(--jp-content-font-color1, white)));\n",
       "    --sklearn-color-background: var(--sg-background-color, var(--theme-background, var(--jp-layout-color0, #111)));\n",
       "    --sklearn-color-border-box: var(--sg-text-color, var(--theme-code-foreground, var(--jp-content-font-color1, white)));\n",
       "    --sklearn-color-icon: #878787;\n",
       "  }\n",
       "}\n",
       "\n",
       "#sk-container-id-1 {\n",
       "  color: var(--sklearn-color-text);\n",
       "}\n",
       "\n",
       "#sk-container-id-1 pre {\n",
       "  padding: 0;\n",
       "}\n",
       "\n",
       "#sk-container-id-1 input.sk-hidden--visually {\n",
       "  border: 0;\n",
       "  clip: rect(1px 1px 1px 1px);\n",
       "  clip: rect(1px, 1px, 1px, 1px);\n",
       "  height: 1px;\n",
       "  margin: -1px;\n",
       "  overflow: hidden;\n",
       "  padding: 0;\n",
       "  position: absolute;\n",
       "  width: 1px;\n",
       "}\n",
       "\n",
       "#sk-container-id-1 div.sk-dashed-wrapped {\n",
       "  border: 1px dashed var(--sklearn-color-line);\n",
       "  margin: 0 0.4em 0.5em 0.4em;\n",
       "  box-sizing: border-box;\n",
       "  padding-bottom: 0.4em;\n",
       "  background-color: var(--sklearn-color-background);\n",
       "}\n",
       "\n",
       "#sk-container-id-1 div.sk-container {\n",
       "  /* jupyter's `normalize.less` sets `[hidden] { display: none; }`\n",
       "     but bootstrap.min.css set `[hidden] { display: none !important; }`\n",
       "     so we also need the `!important` here to be able to override the\n",
       "     default hidden behavior on the sphinx rendered scikit-learn.org.\n",
       "     See: https://github.com/scikit-learn/scikit-learn/issues/21755 */\n",
       "  display: inline-block !important;\n",
       "  position: relative;\n",
       "}\n",
       "\n",
       "#sk-container-id-1 div.sk-text-repr-fallback {\n",
       "  display: none;\n",
       "}\n",
       "\n",
       "div.sk-parallel-item,\n",
       "div.sk-serial,\n",
       "div.sk-item {\n",
       "  /* draw centered vertical line to link estimators */\n",
       "  background-image: linear-gradient(var(--sklearn-color-text-on-default-background), var(--sklearn-color-text-on-default-background));\n",
       "  background-size: 2px 100%;\n",
       "  background-repeat: no-repeat;\n",
       "  background-position: center center;\n",
       "}\n",
       "\n",
       "/* Parallel-specific style estimator block */\n",
       "\n",
       "#sk-container-id-1 div.sk-parallel-item::after {\n",
       "  content: \"\";\n",
       "  width: 100%;\n",
       "  border-bottom: 2px solid var(--sklearn-color-text-on-default-background);\n",
       "  flex-grow: 1;\n",
       "}\n",
       "\n",
       "#sk-container-id-1 div.sk-parallel {\n",
       "  display: flex;\n",
       "  align-items: stretch;\n",
       "  justify-content: center;\n",
       "  background-color: var(--sklearn-color-background);\n",
       "  position: relative;\n",
       "}\n",
       "\n",
       "#sk-container-id-1 div.sk-parallel-item {\n",
       "  display: flex;\n",
       "  flex-direction: column;\n",
       "}\n",
       "\n",
       "#sk-container-id-1 div.sk-parallel-item:first-child::after {\n",
       "  align-self: flex-end;\n",
       "  width: 50%;\n",
       "}\n",
       "\n",
       "#sk-container-id-1 div.sk-parallel-item:last-child::after {\n",
       "  align-self: flex-start;\n",
       "  width: 50%;\n",
       "}\n",
       "\n",
       "#sk-container-id-1 div.sk-parallel-item:only-child::after {\n",
       "  width: 0;\n",
       "}\n",
       "\n",
       "/* Serial-specific style estimator block */\n",
       "\n",
       "#sk-container-id-1 div.sk-serial {\n",
       "  display: flex;\n",
       "  flex-direction: column;\n",
       "  align-items: center;\n",
       "  background-color: var(--sklearn-color-background);\n",
       "  padding-right: 1em;\n",
       "  padding-left: 1em;\n",
       "}\n",
       "\n",
       "\n",
       "/* Toggleable style: style used for estimator/Pipeline/ColumnTransformer box that is\n",
       "clickable and can be expanded/collapsed.\n",
       "- Pipeline and ColumnTransformer use this feature and define the default style\n",
       "- Estimators will overwrite some part of the style using the `sk-estimator` class\n",
       "*/\n",
       "\n",
       "/* Pipeline and ColumnTransformer style (default) */\n",
       "\n",
       "#sk-container-id-1 div.sk-toggleable {\n",
       "  /* Default theme specific background. It is overwritten whether we have a\n",
       "  specific estimator or a Pipeline/ColumnTransformer */\n",
       "  background-color: var(--sklearn-color-background);\n",
       "}\n",
       "\n",
       "/* Toggleable label */\n",
       "#sk-container-id-1 label.sk-toggleable__label {\n",
       "  cursor: pointer;\n",
       "  display: block;\n",
       "  width: 100%;\n",
       "  margin-bottom: 0;\n",
       "  padding: 0.5em;\n",
       "  box-sizing: border-box;\n",
       "  text-align: center;\n",
       "}\n",
       "\n",
       "#sk-container-id-1 label.sk-toggleable__label-arrow:before {\n",
       "  /* Arrow on the left of the label */\n",
       "  content: \"▸\";\n",
       "  float: left;\n",
       "  margin-right: 0.25em;\n",
       "  color: var(--sklearn-color-icon);\n",
       "}\n",
       "\n",
       "#sk-container-id-1 label.sk-toggleable__label-arrow:hover:before {\n",
       "  color: var(--sklearn-color-text);\n",
       "}\n",
       "\n",
       "/* Toggleable content - dropdown */\n",
       "\n",
       "#sk-container-id-1 div.sk-toggleable__content {\n",
       "  max-height: 0;\n",
       "  max-width: 0;\n",
       "  overflow: hidden;\n",
       "  text-align: left;\n",
       "  /* unfitted */\n",
       "  background-color: var(--sklearn-color-unfitted-level-0);\n",
       "}\n",
       "\n",
       "#sk-container-id-1 div.sk-toggleable__content.fitted {\n",
       "  /* fitted */\n",
       "  background-color: var(--sklearn-color-fitted-level-0);\n",
       "}\n",
       "\n",
       "#sk-container-id-1 div.sk-toggleable__content pre {\n",
       "  margin: 0.2em;\n",
       "  border-radius: 0.25em;\n",
       "  color: var(--sklearn-color-text);\n",
       "  /* unfitted */\n",
       "  background-color: var(--sklearn-color-unfitted-level-0);\n",
       "}\n",
       "\n",
       "#sk-container-id-1 div.sk-toggleable__content.fitted pre {\n",
       "  /* unfitted */\n",
       "  background-color: var(--sklearn-color-fitted-level-0);\n",
       "}\n",
       "\n",
       "#sk-container-id-1 input.sk-toggleable__control:checked~div.sk-toggleable__content {\n",
       "  /* Expand drop-down */\n",
       "  max-height: 200px;\n",
       "  max-width: 100%;\n",
       "  overflow: auto;\n",
       "}\n",
       "\n",
       "#sk-container-id-1 input.sk-toggleable__control:checked~label.sk-toggleable__label-arrow:before {\n",
       "  content: \"▾\";\n",
       "}\n",
       "\n",
       "/* Pipeline/ColumnTransformer-specific style */\n",
       "\n",
       "#sk-container-id-1 div.sk-label input.sk-toggleable__control:checked~label.sk-toggleable__label {\n",
       "  color: var(--sklearn-color-text);\n",
       "  background-color: var(--sklearn-color-unfitted-level-2);\n",
       "}\n",
       "\n",
       "#sk-container-id-1 div.sk-label.fitted input.sk-toggleable__control:checked~label.sk-toggleable__label {\n",
       "  background-color: var(--sklearn-color-fitted-level-2);\n",
       "}\n",
       "\n",
       "/* Estimator-specific style */\n",
       "\n",
       "/* Colorize estimator box */\n",
       "#sk-container-id-1 div.sk-estimator input.sk-toggleable__control:checked~label.sk-toggleable__label {\n",
       "  /* unfitted */\n",
       "  background-color: var(--sklearn-color-unfitted-level-2);\n",
       "}\n",
       "\n",
       "#sk-container-id-1 div.sk-estimator.fitted input.sk-toggleable__control:checked~label.sk-toggleable__label {\n",
       "  /* fitted */\n",
       "  background-color: var(--sklearn-color-fitted-level-2);\n",
       "}\n",
       "\n",
       "#sk-container-id-1 div.sk-label label.sk-toggleable__label,\n",
       "#sk-container-id-1 div.sk-label label {\n",
       "  /* The background is the default theme color */\n",
       "  color: var(--sklearn-color-text-on-default-background);\n",
       "}\n",
       "\n",
       "/* On hover, darken the color of the background */\n",
       "#sk-container-id-1 div.sk-label:hover label.sk-toggleable__label {\n",
       "  color: var(--sklearn-color-text);\n",
       "  background-color: var(--sklearn-color-unfitted-level-2);\n",
       "}\n",
       "\n",
       "/* Label box, darken color on hover, fitted */\n",
       "#sk-container-id-1 div.sk-label.fitted:hover label.sk-toggleable__label.fitted {\n",
       "  color: var(--sklearn-color-text);\n",
       "  background-color: var(--sklearn-color-fitted-level-2);\n",
       "}\n",
       "\n",
       "/* Estimator label */\n",
       "\n",
       "#sk-container-id-1 div.sk-label label {\n",
       "  font-family: monospace;\n",
       "  font-weight: bold;\n",
       "  display: inline-block;\n",
       "  line-height: 1.2em;\n",
       "}\n",
       "\n",
       "#sk-container-id-1 div.sk-label-container {\n",
       "  text-align: center;\n",
       "}\n",
       "\n",
       "/* Estimator-specific */\n",
       "#sk-container-id-1 div.sk-estimator {\n",
       "  font-family: monospace;\n",
       "  border: 1px dotted var(--sklearn-color-border-box);\n",
       "  border-radius: 0.25em;\n",
       "  box-sizing: border-box;\n",
       "  margin-bottom: 0.5em;\n",
       "  /* unfitted */\n",
       "  background-color: var(--sklearn-color-unfitted-level-0);\n",
       "}\n",
       "\n",
       "#sk-container-id-1 div.sk-estimator.fitted {\n",
       "  /* fitted */\n",
       "  background-color: var(--sklearn-color-fitted-level-0);\n",
       "}\n",
       "\n",
       "/* on hover */\n",
       "#sk-container-id-1 div.sk-estimator:hover {\n",
       "  /* unfitted */\n",
       "  background-color: var(--sklearn-color-unfitted-level-2);\n",
       "}\n",
       "\n",
       "#sk-container-id-1 div.sk-estimator.fitted:hover {\n",
       "  /* fitted */\n",
       "  background-color: var(--sklearn-color-fitted-level-2);\n",
       "}\n",
       "\n",
       "/* Specification for estimator info (e.g. \"i\" and \"?\") */\n",
       "\n",
       "/* Common style for \"i\" and \"?\" */\n",
       "\n",
       ".sk-estimator-doc-link,\n",
       "a:link.sk-estimator-doc-link,\n",
       "a:visited.sk-estimator-doc-link {\n",
       "  float: right;\n",
       "  font-size: smaller;\n",
       "  line-height: 1em;\n",
       "  font-family: monospace;\n",
       "  background-color: var(--sklearn-color-background);\n",
       "  border-radius: 1em;\n",
       "  height: 1em;\n",
       "  width: 1em;\n",
       "  text-decoration: none !important;\n",
       "  margin-left: 1ex;\n",
       "  /* unfitted */\n",
       "  border: var(--sklearn-color-unfitted-level-1) 1pt solid;\n",
       "  color: var(--sklearn-color-unfitted-level-1);\n",
       "}\n",
       "\n",
       ".sk-estimator-doc-link.fitted,\n",
       "a:link.sk-estimator-doc-link.fitted,\n",
       "a:visited.sk-estimator-doc-link.fitted {\n",
       "  /* fitted */\n",
       "  border: var(--sklearn-color-fitted-level-1) 1pt solid;\n",
       "  color: var(--sklearn-color-fitted-level-1);\n",
       "}\n",
       "\n",
       "/* On hover */\n",
       "div.sk-estimator:hover .sk-estimator-doc-link:hover,\n",
       ".sk-estimator-doc-link:hover,\n",
       "div.sk-label-container:hover .sk-estimator-doc-link:hover,\n",
       ".sk-estimator-doc-link:hover {\n",
       "  /* unfitted */\n",
       "  background-color: var(--sklearn-color-unfitted-level-3);\n",
       "  color: var(--sklearn-color-background);\n",
       "  text-decoration: none;\n",
       "}\n",
       "\n",
       "div.sk-estimator.fitted:hover .sk-estimator-doc-link.fitted:hover,\n",
       ".sk-estimator-doc-link.fitted:hover,\n",
       "div.sk-label-container:hover .sk-estimator-doc-link.fitted:hover,\n",
       ".sk-estimator-doc-link.fitted:hover {\n",
       "  /* fitted */\n",
       "  background-color: var(--sklearn-color-fitted-level-3);\n",
       "  color: var(--sklearn-color-background);\n",
       "  text-decoration: none;\n",
       "}\n",
       "\n",
       "/* Span, style for the box shown on hovering the info icon */\n",
       ".sk-estimator-doc-link span {\n",
       "  display: none;\n",
       "  z-index: 9999;\n",
       "  position: relative;\n",
       "  font-weight: normal;\n",
       "  right: .2ex;\n",
       "  padding: .5ex;\n",
       "  margin: .5ex;\n",
       "  width: min-content;\n",
       "  min-width: 20ex;\n",
       "  max-width: 50ex;\n",
       "  color: var(--sklearn-color-text);\n",
       "  box-shadow: 2pt 2pt 4pt #999;\n",
       "  /* unfitted */\n",
       "  background: var(--sklearn-color-unfitted-level-0);\n",
       "  border: .5pt solid var(--sklearn-color-unfitted-level-3);\n",
       "}\n",
       "\n",
       ".sk-estimator-doc-link.fitted span {\n",
       "  /* fitted */\n",
       "  background: var(--sklearn-color-fitted-level-0);\n",
       "  border: var(--sklearn-color-fitted-level-3);\n",
       "}\n",
       "\n",
       ".sk-estimator-doc-link:hover span {\n",
       "  display: block;\n",
       "}\n",
       "\n",
       "/* \"?\"-specific style due to the `<a>` HTML tag */\n",
       "\n",
       "#sk-container-id-1 a.estimator_doc_link {\n",
       "  float: right;\n",
       "  font-size: 1rem;\n",
       "  line-height: 1em;\n",
       "  font-family: monospace;\n",
       "  background-color: var(--sklearn-color-background);\n",
       "  border-radius: 1rem;\n",
       "  height: 1rem;\n",
       "  width: 1rem;\n",
       "  text-decoration: none;\n",
       "  /* unfitted */\n",
       "  color: var(--sklearn-color-unfitted-level-1);\n",
       "  border: var(--sklearn-color-unfitted-level-1) 1pt solid;\n",
       "}\n",
       "\n",
       "#sk-container-id-1 a.estimator_doc_link.fitted {\n",
       "  /* fitted */\n",
       "  border: var(--sklearn-color-fitted-level-1) 1pt solid;\n",
       "  color: var(--sklearn-color-fitted-level-1);\n",
       "}\n",
       "\n",
       "/* On hover */\n",
       "#sk-container-id-1 a.estimator_doc_link:hover {\n",
       "  /* unfitted */\n",
       "  background-color: var(--sklearn-color-unfitted-level-3);\n",
       "  color: var(--sklearn-color-background);\n",
       "  text-decoration: none;\n",
       "}\n",
       "\n",
       "#sk-container-id-1 a.estimator_doc_link.fitted:hover {\n",
       "  /* fitted */\n",
       "  background-color: var(--sklearn-color-fitted-level-3);\n",
       "}\n",
       "</style><div id=\"sk-container-id-1\" class=\"sk-top-container\"><div class=\"sk-text-repr-fallback\"><pre>LinearRegression()</pre><b>In a Jupyter environment, please rerun this cell to show the HTML representation or trust the notebook. <br />On GitHub, the HTML representation is unable to render, please try loading this page with nbviewer.org.</b></div><div class=\"sk-container\" hidden><div class=\"sk-item\"><div class=\"sk-estimator fitted sk-toggleable\"><input class=\"sk-toggleable__control sk-hidden--visually\" id=\"sk-estimator-id-1\" type=\"checkbox\" checked><label for=\"sk-estimator-id-1\" class=\"sk-toggleable__label fitted sk-toggleable__label-arrow fitted\">&nbsp;&nbsp;LinearRegression<a class=\"sk-estimator-doc-link fitted\" rel=\"noreferrer\" target=\"_blank\" href=\"https://scikit-learn.org/1.4/modules/generated/sklearn.linear_model.LinearRegression.html\">?<span>Documentation for LinearRegression</span></a><span class=\"sk-estimator-doc-link fitted\">i<span>Fitted</span></span></label><div class=\"sk-toggleable__content fitted\"><pre>LinearRegression()</pre></div> </div></div></div></div>"
      ],
      "text/plain": [
       "LinearRegression()"
      ]
     },
     "execution_count": 93,
     "metadata": {},
     "output_type": "execute_result"
    }
   ],
   "source": [
    "# Importar biblioteca\n",
    "from sklearn.linear_model import LinearRegression\n",
    "\n",
    "# Modelagem com Regressão Linear\n",
    "X = df_completo[['Peso (kg)', 'Volume (m³)', 'Distancia']]\n",
    "y = df_completo['Custo_Total']\n",
    "\n",
    "modelo = LinearRegression()\n",
    "modelo.fit(X, y)"
   ]
  },
  {
   "cell_type": "code",
   "execution_count": 94,
   "metadata": {},
   "outputs": [
    {
     "name": "stdout",
     "output_type": "stream",
     "text": [
      "R² do modelo: 1.00\n"
     ]
    }
   ],
   "source": [
    "# Importar biblioteca\n",
    "from sklearn.metrics import r2_score\n",
    "\n",
    "# Predição e avaliação\n",
    "y_pred = modelo.predict(X)\n",
    "r2 = r2_score(y, y_pred)\n",
    "\n",
    "# Exibir resultado\n",
    "print(f\"R² do modelo: {r2:.2f}\")"
   ]
  },
  {
   "cell_type": "code",
   "execution_count": 95,
   "metadata": {},
   "outputs": [
    {
     "data": {
      "image/png": "[encoded data removed]",
      "text/plain": [
       "<Figure size 800x500 with 1 Axes>"
      ]
     },
     "metadata": {},
     "output_type": "display_data"
    }
   ],
   "source": [
    "# Comparação real x predito\n",
    "plt.figure(figsize=(8, 5))\n",
    "plt.scatter(y, y_pred, alpha=0.7)\n",
    "plt.plot([y.min(), y.max()], [y.min(), y.max()], 'r--', lw=2)\n",
    "plt.title('Comparação entre Valores Reais e Preditos')\n",
    "plt.xlabel('Custo Real (R$)')\n",
    "plt.ylabel('Custo Predito (R$)')\n",
    "plt.show()"
   ]
  },
  {
   "cell_type": "code",
   "execution_count": 96,
   "metadata": {},
   "outputs": [
    {
     "name": "stdout",
     "output_type": "stream",
     "text": [
      "   Pedido_ID       status\n",
      "0          1     Entregue\n",
      "1          2  Em Trânsito\n"
     ]
    }
   ],
   "source": [
    "# Criar um dicionário\n",
    "mapa_status = pedidos.set_index('Pedido_ID')['Status'].to_dict()\n",
    "\n",
    "# Criar coluna e mapear\n",
    "historico_entregas['status'] = historico_entregas['Pedido_ID'].map(mapa_status)\n",
    "\n",
    "# Exibir resultado\n",
    "print(historico_entregas[['Pedido_ID', 'status']].head(2))"
   ]
  },
  {
   "cell_type": "code",
   "execution_count": 97,
   "metadata": {},
   "outputs": [
    {
     "data": {
      "text/plain": [
       "array(['Entregue', 'Em Trânsito', 'Cancelado'], dtype=object)"
      ]
     },
     "execution_count": 97,
     "metadata": {},
     "output_type": "execute_result"
    }
   ],
   "source": [
    "# Verificar valores únicos\n",
    "historico_entregas['status'].unique()"
   ]
  },
  {
   "cell_type": "code",
   "execution_count": 98,
   "metadata": {},
   "outputs": [
    {
     "name": "stdout",
     "output_type": "stream",
     "text": [
      "Quantidade de cada status\n",
      "Cancelado      24\n",
      "Em Trânsito    33\n",
      "Entregue       43\n",
      "dtype: int64\n"
     ]
    }
   ],
   "source": [
    "# Quantidade de cada status\n",
    "print(f'Quantidade de cada {historico_entregas.groupby(['status']).size()}')"
   ]
  },
  {
   "cell_type": "code",
   "execution_count": 99,
   "metadata": {},
   "outputs": [
    {
     "name": "stdout",
     "output_type": "stream",
     "text": [
      "Quantidade entregue por veículo\n"
     ]
    },
    {
     "data": {
      "text/plain": [
       "Veiculo   status  \n",
       "Caminhão  Entregue    11\n",
       "Van       Entregue     8\n",
       "Moto      Entregue     7\n",
       "Name: count, dtype: int64"
      ]
     },
     "execution_count": 99,
     "metadata": {},
     "output_type": "execute_result"
    }
   ],
   "source": [
    "# Filtro: atraso e status entregue\n",
    "status_entregue = historico_entregas.query('Atraso_h >= 2 and status == \"Entregue\"')[['Veiculo','status']].value_counts()\n",
    "\n",
    "print('Quantidade entregue por veículo') # Exibir mensagem\n",
    "\n",
    "# Exibir resultado\n",
    "status_entregue"
   ]
  },
  {
   "cell_type": "code",
   "execution_count": 100,
   "metadata": {},
   "outputs": [
    {
     "name": "stdout",
     "output_type": "stream",
     "text": [
      "{('Caminhão', 'Entregue'): 11, ('Van', 'Entregue'): 8, ('Moto', 'Entregue'): 7}\n"
     ]
    }
   ],
   "source": [
    "# Transformando em um dicionário\n",
    "dict_entregue = status_entregue.to_dict()\n",
    "\n",
    "# Exibindo resultado\n",
    "print(dict_entregue)"
   ]
  },
  {
   "cell_type": "code",
   "execution_count": 101,
   "metadata": {},
   "outputs": [
    {
     "name": "stdout",
     "output_type": "stream",
     "text": [
      "{'Caminhão': 11, 'Van': 8, 'Moto': 7}\n"
     ]
    }
   ],
   "source": [
    "# Criar novo dicionário com apenas o primeiro valor da chave (sem excluir as entradas)\n",
    "entregue = {key[0]: value for key, value in dict_entregue.items()}\n",
    "\n",
    "# Exibir resultado\n",
    "print(entregue)"
   ]
  },
  {
   "cell_type": "code",
   "execution_count": 102,
   "metadata": {},
   "outputs": [
    {
     "name": "stdout",
     "output_type": "stream",
     "text": [
      "Quantidade em trânsito por veículo\n"
     ]
    },
    {
     "data": {
      "text/plain": [
       "Veiculo   status     \n",
       "Caminhão  Em Trânsito    8\n",
       "Van       Em Trânsito    8\n",
       "Moto      Em Trânsito    7\n",
       "Name: count, dtype: int64"
      ]
     },
     "execution_count": 102,
     "metadata": {},
     "output_type": "execute_result"
    }
   ],
   "source": [
    "# Filtro atraso e status em trânsito\n",
    "status_emTransito=historico_entregas.query('Atraso_h >= 2 and status == \"Em Trânsito\"')[['Veiculo','status']].value_counts()\n",
    "\n",
    "print('Quantidade em trânsito por veículo') # Exibir mensagem\n",
    "\n",
    "# Exibir resultado\n",
    "status_emTransito"
   ]
  },
  {
   "cell_type": "code",
   "execution_count": 103,
   "metadata": {},
   "outputs": [
    {
     "name": "stdout",
     "output_type": "stream",
     "text": [
      "{('Caminhão', 'Em Trânsito'): 8, ('Van', 'Em Trânsito'): 8, ('Moto', 'Em Trânsito'): 7}\n"
     ]
    }
   ],
   "source": [
    "# Transformando em um dicionário\n",
    "dict_emTransito = status_emTransito.to_dict()\n",
    "\n",
    "# Exibindo resultado\n",
    "print(dict_emTransito)"
   ]
  },
  {
   "cell_type": "code",
   "execution_count": 104,
   "metadata": {},
   "outputs": [
    {
     "name": "stdout",
     "output_type": "stream",
     "text": [
      "{'Caminhão': 8, 'Van': 8, 'Moto': 7}\n"
     ]
    }
   ],
   "source": [
    "# Criar novo dicionário com apenas o primeiro valor da chave (sem excluir as entradas)\n",
    "emTransito = {key[0]: value for key, value in dict_emTransito.items()}\n",
    "\n",
    "# Exibir resultado\n",
    "print(emTransito)"
   ]
  },
  {
   "cell_type": "code",
   "execution_count": 105,
   "metadata": {},
   "outputs": [
    {
     "name": "stdout",
     "output_type": "stream",
     "text": [
      "Quantidade cancelado por veículo\n"
     ]
    },
    {
     "data": {
      "text/plain": [
       "Veiculo   status   \n",
       "Van       Cancelado    6\n",
       "Caminhão  Cancelado    5\n",
       "Moto      Cancelado    1\n",
       "Name: count, dtype: int64"
      ]
     },
     "execution_count": 105,
     "metadata": {},
     "output_type": "execute_result"
    }
   ],
   "source": [
    "# Filtro atraso e status cancelado\n",
    "status_cancelado = historico_entregas.query('Atraso_h >= 2 and status == \"Cancelado\"')[['Veiculo','status']].value_counts()\n",
    "\n",
    "print('Quantidade cancelado por veículo') # Exibir mensagem\n",
    "\n",
    "# Exibir resultado\n",
    "status_cancelado"
   ]
  },
  {
   "cell_type": "code",
   "execution_count": 106,
   "metadata": {},
   "outputs": [
    {
     "name": "stdout",
     "output_type": "stream",
     "text": [
      "{('Van', 'Cancelado'): 6, ('Caminhão', 'Cancelado'): 5, ('Moto', 'Cancelado'): 1}\n"
     ]
    }
   ],
   "source": [
    "# Transformando em um dicionário\n",
    "dict_cancelado = status_cancelado.to_dict()\n",
    "\n",
    "# Exibindo o resultado\n",
    "print(dict_cancelado)"
   ]
  },
  {
   "cell_type": "code",
   "execution_count": 107,
   "metadata": {},
   "outputs": [
    {
     "name": "stdout",
     "output_type": "stream",
     "text": [
      "{'Van': 6, 'Caminhão': 5, 'Moto': 1}\n"
     ]
    }
   ],
   "source": [
    "# Criar novo dicionário com apenas o primeiro valor da chave (sem excluir as entradas)\n",
    "cancelado = {key[0]: value for key, value in dict_cancelado.items()}\n",
    "\n",
    "# Exibir o resultado\n",
    "print(cancelado)"
   ]
  },
  {
   "cell_type": "code",
   "execution_count": 108,
   "metadata": {},
   "outputs": [
    {
     "data": {
      "image/png": "[encoded data removed]",
      "text/plain": [
       "<Figure size 1000x600 with 1 Axes>"
      ]
     },
     "metadata": {},
     "output_type": "display_data"
    }
   ],
   "source": [
    "# Importando biblioteca para criar gráfico\n",
    "import matplotlib.pyplot as plt    \n",
    "\n",
    "# Dados\n",
    "atrasos = ['entregue', 'em transito', 'cancelado']\n",
    "veiculos = ['Caminhão', 'Van', 'Moto']\n",
    "dados = {\n",
    "    'entregue': {'Caminhão': 11, 'Van': 8, 'Moto': 7},\n",
    "    'em transito': {'Caminhão': 8, 'Van': 8, 'Moto': 7},\n",
    "    'cancelado': {'Van': 6, 'Caminhão': 5, 'Moto': 1}\n",
    "}\n",
    "cores = {'entregue': 'red', 'em transito': 'blue', 'cancelado': 'green'}\n",
    "\n",
    "# Configuração do gráfico\n",
    "plt.figure(figsize=(10, 6))\n",
    "barWidth = 0.2  # Largura das barras\n",
    "r = range(len(atrasos))\n",
    "\n",
    "# Criando barras empilhadas\n",
    "for idx, veiculo in enumerate(veiculos):\n",
    "    # Valores do veículo atual\n",
    "    valores_veiculo = [dados[cat][veiculo] for cat in atrasos]\n",
    "    # Posicionamento das barras\n",
    "    posicao = [x + idx * barWidth for x in r]\n",
    "    # Criando as barras\n",
    "    plt.bar(posicao, valores_veiculo, color=cores[atrasos[idx % len(atrasos)]], \n",
    "            edgecolor='white', width=barWidth, label=veiculo)\n",
    "    # Adicionando rótulos\n",
    "    for j, valor in enumerate(valores_veiculo):\n",
    "        plt.text(posicao[j], valor + 0.1, str(valor), ha='center', va='bottom')\n",
    "\n",
    "\n",
    "# Título e configurações\n",
    "plt.title('Total de Veículos por Categoria de Atraso')\n",
    "plt.xlabel('Categorias de Atraso')\n",
    "plt.ylabel('Quantidade')\n",
    "plt.xticks([x + barWidth for x in r], atrasos)\n",
    "plt.legend(bbox_to_anchor=(1.05, 1), loc='upper left')\n",
    "plt.grid(axis='y', linestyle='--')\n",
    "plt.show()\n"
   ]
  },
  {
   "cell_type": "code",
   "execution_count": 109,
   "metadata": {},
   "outputs": [
    {
     "data": {
      "text/plain": [
       "Index(['Motorista_ID', 'Nome', 'Experiencia_anos', 'Avaliacao'], dtype='object')"
      ]
     },
     "execution_count": 109,
     "metadata": {},
     "output_type": "execute_result"
    }
   ],
   "source": [
    "# Analisando todas as colunas\n",
    "motorista.columns"
   ]
  },
  {
   "cell_type": "code",
   "execution_count": 110,
   "metadata": {},
   "outputs": [
    {
     "data": {
      "text/plain": [
       "array([1, 2, 3, 5, 6, 7, 9], dtype=int64)"
      ]
     },
     "execution_count": 110,
     "metadata": {},
     "output_type": "execute_result"
    }
   ],
   "source": [
    "# Verificando valores únicos coluna 'Experiencia_anos'\n",
    "experiencia = motorista['Experiencia_anos'].unique()\n",
    "\n",
    "# Ordenando\n",
    "experiencia.sort()\n",
    "\n",
    "# Exibir resultado\n",
    "experiencia"
   ]
  },
  {
   "cell_type": "code",
   "execution_count": 111,
   "metadata": {},
   "outputs": [
    {
     "data": {
      "text/plain": [
       "count    10.000000\n",
       "mean      4.700000\n",
       "std       2.626785\n",
       "min       1.000000\n",
       "25%       2.250000\n",
       "50%       5.000000\n",
       "75%       6.750000\n",
       "max       9.000000\n",
       "Name: Experiencia_anos, dtype: float64"
      ]
     },
     "execution_count": 111,
     "metadata": {},
     "output_type": "execute_result"
    }
   ],
   "source": [
    "# Estatística da coluna 'Experiencia_anos'\n",
    "motorista['Experiencia_anos'].describe()"
   ]
  },
  {
   "cell_type": "code",
   "execution_count": 112,
   "metadata": {},
   "outputs": [
    {
     "data": {
      "text/plain": [
       "0    3.7\n",
       "5    3.7\n",
       "2    3.8\n",
       "8    3.8\n",
       "3    3.9\n",
       "6    4.0\n",
       "1    4.2\n",
       "9    4.2\n",
       "7    4.6\n",
       "4    4.8\n",
       "Name: Avaliacao, dtype: float64"
      ]
     },
     "execution_count": 112,
     "metadata": {},
     "output_type": "execute_result"
    }
   ],
   "source": [
    "# Analisando avaliação\n",
    "avaliacao = motorista['Avaliacao']\n",
    "\n",
    "# Ordenando\n",
    "avaliacao.sort_values()"
   ]
  },
  {
   "cell_type": "code",
   "execution_count": 113,
   "metadata": {},
   "outputs": [
    {
     "data": {
      "text/plain": [
       "count    10.000000\n",
       "mean      4.070000\n",
       "std       0.380205\n",
       "min       3.700000\n",
       "25%       3.800000\n",
       "50%       3.950000\n",
       "75%       4.200000\n",
       "max       4.800000\n",
       "Name: Avaliacao, dtype: float64"
      ]
     },
     "execution_count": 113,
     "metadata": {},
     "output_type": "execute_result"
    }
   ],
   "source": [
    "# Estatística da avaliação\n",
    "motorista['Avaliacao'].describe()"
   ]
  },
  {
   "cell_type": "code",
   "execution_count": 114,
   "metadata": {},
   "outputs": [
    {
     "data": {
      "text/html": [
       "<div>\n",
       "<style scoped>\n",
       "    .dataframe tbody tr th:only-of-type {\n",
       "        vertical-align: middle;\n",
       "    }\n",
       "\n",
       "    .dataframe tbody tr th {\n",
       "        vertical-align: top;\n",
       "    }\n",
       "\n",
       "    .dataframe thead th {\n",
       "        text-align: right;\n",
       "    }\n",
       "</style>\n",
       "<table border=\"1\" class=\"dataframe\">\n",
       "  <thead>\n",
       "    <tr style=\"text-align: right;\">\n",
       "      <th></th>\n",
       "      <th>Motorista_ID</th>\n",
       "      <th>Nome</th>\n",
       "      <th>Experiencia_anos</th>\n",
       "      <th>Avaliacao</th>\n",
       "    </tr>\n",
       "  </thead>\n",
       "  <tbody>\n",
       "    <tr>\n",
       "      <th>4</th>\n",
       "      <td>205</td>\n",
       "      <td>Emma White</td>\n",
       "      <td>5</td>\n",
       "      <td>4.8</td>\n",
       "    </tr>\n",
       "    <tr>\n",
       "      <th>7</th>\n",
       "      <td>208</td>\n",
       "      <td>Emily Mcfarland</td>\n",
       "      <td>7</td>\n",
       "      <td>4.6</td>\n",
       "    </tr>\n",
       "  </tbody>\n",
       "</table>\n",
       "</div>"
      ],
      "text/plain": [
       "   Motorista_ID             Nome  Experiencia_anos  Avaliacao\n",
       "4           205       Emma White                 5        4.8\n",
       "7           208  Emily Mcfarland                 7        4.6"
      ]
     },
     "execution_count": 114,
     "metadata": {},
     "output_type": "execute_result"
    }
   ],
   "source": [
    "# Filtro pela média de experiência e avaliação \n",
    "motorista.query('Experiencia_anos >= 4.7 and Avaliacao >= 4.08')[['Motorista_ID', 'Nome','Experiencia_anos', 'Avaliacao']]"
   ]
  },
  {
   "cell_type": "code",
   "execution_count": 115,
   "metadata": {},
   "outputs": [
    {
     "data": {
      "text/html": [
       "<div>\n",
       "<style scoped>\n",
       "    .dataframe tbody tr th:only-of-type {\n",
       "        vertical-align: middle;\n",
       "    }\n",
       "\n",
       "    .dataframe tbody tr th {\n",
       "        vertical-align: top;\n",
       "    }\n",
       "\n",
       "    .dataframe thead th {\n",
       "        text-align: right;\n",
       "    }\n",
       "</style>\n",
       "<table border=\"1\" class=\"dataframe\">\n",
       "  <thead>\n",
       "    <tr style=\"text-align: right;\">\n",
       "      <th></th>\n",
       "      <th>Motorista_ID</th>\n",
       "      <th>Atraso_Medio_h</th>\n",
       "      <th>Nome</th>\n",
       "      <th>Experiencia_anos</th>\n",
       "      <th>Avaliacao</th>\n",
       "    </tr>\n",
       "  </thead>\n",
       "  <tbody>\n",
       "    <tr>\n",
       "      <th>0</th>\n",
       "      <td>201</td>\n",
       "      <td>2.214286</td>\n",
       "      <td>Alejandro Roberson</td>\n",
       "      <td>9</td>\n",
       "      <td>3.7</td>\n",
       "    </tr>\n",
       "    <tr>\n",
       "      <th>1</th>\n",
       "      <td>202</td>\n",
       "      <td>1.428571</td>\n",
       "      <td>Brian Curtis</td>\n",
       "      <td>1</td>\n",
       "      <td>4.2</td>\n",
       "    </tr>\n",
       "    <tr>\n",
       "      <th>2</th>\n",
       "      <td>203</td>\n",
       "      <td>1.833333</td>\n",
       "      <td>Shawn Johnson</td>\n",
       "      <td>7</td>\n",
       "      <td>3.8</td>\n",
       "    </tr>\n",
       "    <tr>\n",
       "      <th>3</th>\n",
       "      <td>204</td>\n",
       "      <td>2.777778</td>\n",
       "      <td>Samuel Roberts</td>\n",
       "      <td>5</td>\n",
       "      <td>3.9</td>\n",
       "    </tr>\n",
       "    <tr>\n",
       "      <th>4</th>\n",
       "      <td>205</td>\n",
       "      <td>1.666667</td>\n",
       "      <td>Emma White</td>\n",
       "      <td>5</td>\n",
       "      <td>4.8</td>\n",
       "    </tr>\n",
       "    <tr>\n",
       "      <th>5</th>\n",
       "      <td>206</td>\n",
       "      <td>2.000000</td>\n",
       "      <td>Shelly Mcclain</td>\n",
       "      <td>2</td>\n",
       "      <td>3.7</td>\n",
       "    </tr>\n",
       "    <tr>\n",
       "      <th>6</th>\n",
       "      <td>207</td>\n",
       "      <td>1.666667</td>\n",
       "      <td>Daniel Rojas Jr.</td>\n",
       "      <td>3</td>\n",
       "      <td>4.0</td>\n",
       "    </tr>\n",
       "    <tr>\n",
       "      <th>7</th>\n",
       "      <td>208</td>\n",
       "      <td>2.416667</td>\n",
       "      <td>Emily Mcfarland</td>\n",
       "      <td>7</td>\n",
       "      <td>4.6</td>\n",
       "    </tr>\n",
       "    <tr>\n",
       "      <th>8</th>\n",
       "      <td>209</td>\n",
       "      <td>1.375000</td>\n",
       "      <td>Shelly Scott</td>\n",
       "      <td>6</td>\n",
       "      <td>3.8</td>\n",
       "    </tr>\n",
       "    <tr>\n",
       "      <th>9</th>\n",
       "      <td>210</td>\n",
       "      <td>2.571429</td>\n",
       "      <td>Jonathan Williams</td>\n",
       "      <td>2</td>\n",
       "      <td>4.2</td>\n",
       "    </tr>\n",
       "  </tbody>\n",
       "</table>\n",
       "</div>"
      ],
      "text/plain": [
       "   Motorista_ID  Atraso_Medio_h                Nome  Experiencia_anos  \\\n",
       "0           201        2.214286  Alejandro Roberson                 9   \n",
       "1           202        1.428571        Brian Curtis                 1   \n",
       "2           203        1.833333       Shawn Johnson                 7   \n",
       "3           204        2.777778      Samuel Roberts                 5   \n",
       "4           205        1.666667          Emma White                 5   \n",
       "5           206        2.000000      Shelly Mcclain                 2   \n",
       "6           207        1.666667    Daniel Rojas Jr.                 3   \n",
       "7           208        2.416667     Emily Mcfarland                 7   \n",
       "8           209        1.375000        Shelly Scott                 6   \n",
       "9           210        2.571429   Jonathan Williams                 2   \n",
       "\n",
       "   Avaliacao  \n",
       "0        3.7  \n",
       "1        4.2  \n",
       "2        3.8  \n",
       "3        3.9  \n",
       "4        4.8  \n",
       "5        3.7  \n",
       "6        4.0  \n",
       "7        4.6  \n",
       "8        3.8  \n",
       "9        4.2  "
      ]
     },
     "execution_count": 115,
     "metadata": {},
     "output_type": "execute_result"
    }
   ],
   "source": [
    "# 1. Calcular o atraso médio por motorista\n",
    "atraso_medio = historico_entregas.groupby('Motorista_ID')['Atraso_h'].mean().reset_index()\n",
    "atraso_medio.rename(columns={'Atraso_h': 'Atraso_Medio_h'}, inplace=True)\n",
    "\n",
    "# 2. Combinar os dados de atraso médio com experiência e avaliação\n",
    "desempenho_motoristas = atraso_medio.merge(motorista, on='Motorista_ID', how='left')\n",
    "\n",
    "# 3. Exibir o resultado final\n",
    "desempenho_motoristas"
   ]
  },
  {
   "cell_type": "code",
   "execution_count": 116,
   "metadata": {},
   "outputs": [
    {
     "data": {
      "text/html": [
       "<div>\n",
       "<style scoped>\n",
       "    .dataframe tbody tr th:only-of-type {\n",
       "        vertical-align: middle;\n",
       "    }\n",
       "\n",
       "    .dataframe tbody tr th {\n",
       "        vertical-align: top;\n",
       "    }\n",
       "\n",
       "    .dataframe thead th {\n",
       "        text-align: right;\n",
       "    }\n",
       "</style>\n",
       "<table border=\"1\" class=\"dataframe\">\n",
       "  <thead>\n",
       "    <tr style=\"text-align: right;\">\n",
       "      <th></th>\n",
       "      <th>Motorista_ID</th>\n",
       "      <th>Pontuacao_Final</th>\n",
       "      <th>Atraso_Medio_h</th>\n",
       "      <th>Avaliacao</th>\n",
       "      <th>Experiencia_anos</th>\n",
       "    </tr>\n",
       "  </thead>\n",
       "  <tbody>\n",
       "    <tr>\n",
       "      <th>0</th>\n",
       "      <td>209</td>\n",
       "      <td>0.639500</td>\n",
       "      <td>1.375000</td>\n",
       "      <td>3.8</td>\n",
       "      <td>6</td>\n",
       "    </tr>\n",
       "    <tr>\n",
       "      <th>1</th>\n",
       "      <td>205</td>\n",
       "      <td>0.626667</td>\n",
       "      <td>1.666667</td>\n",
       "      <td>4.8</td>\n",
       "      <td>5</td>\n",
       "    </tr>\n",
       "    <tr>\n",
       "      <th>2</th>\n",
       "      <td>201</td>\n",
       "      <td>0.612393</td>\n",
       "      <td>2.214286</td>\n",
       "      <td>3.7</td>\n",
       "      <td>9</td>\n",
       "    </tr>\n",
       "    <tr>\n",
       "      <th>3</th>\n",
       "      <td>203</td>\n",
       "      <td>0.606833</td>\n",
       "      <td>1.833333</td>\n",
       "      <td>3.8</td>\n",
       "      <td>7</td>\n",
       "    </tr>\n",
       "    <tr>\n",
       "      <th>4</th>\n",
       "      <td>208</td>\n",
       "      <td>0.572833</td>\n",
       "      <td>2.416667</td>\n",
       "      <td>4.6</td>\n",
       "      <td>7</td>\n",
       "    </tr>\n",
       "    <tr>\n",
       "      <th>5</th>\n",
       "      <td>207</td>\n",
       "      <td>0.510000</td>\n",
       "      <td>1.666667</td>\n",
       "      <td>4.0</td>\n",
       "      <td>3</td>\n",
       "    </tr>\n",
       "    <tr>\n",
       "      <th>6</th>\n",
       "      <td>202</td>\n",
       "      <td>0.490119</td>\n",
       "      <td>1.428571</td>\n",
       "      <td>4.2</td>\n",
       "      <td>1</td>\n",
       "    </tr>\n",
       "    <tr>\n",
       "      <th>7</th>\n",
       "      <td>204</td>\n",
       "      <td>0.410417</td>\n",
       "      <td>2.777778</td>\n",
       "      <td>3.9</td>\n",
       "      <td>5</td>\n",
       "    </tr>\n",
       "    <tr>\n",
       "      <th>8</th>\n",
       "      <td>206</td>\n",
       "      <td>0.409917</td>\n",
       "      <td>2.000000</td>\n",
       "      <td>3.7</td>\n",
       "      <td>2</td>\n",
       "    </tr>\n",
       "    <tr>\n",
       "      <th>9</th>\n",
       "      <td>210</td>\n",
       "      <td>0.358881</td>\n",
       "      <td>2.571429</td>\n",
       "      <td>4.2</td>\n",
       "      <td>2</td>\n",
       "    </tr>\n",
       "  </tbody>\n",
       "</table>\n",
       "</div>"
      ],
      "text/plain": [
       "   Motorista_ID  Pontuacao_Final  Atraso_Medio_h  Avaliacao  Experiencia_anos\n",
       "0           209         0.639500        1.375000        3.8                 6\n",
       "1           205         0.626667        1.666667        4.8                 5\n",
       "2           201         0.612393        2.214286        3.7                 9\n",
       "3           203         0.606833        1.833333        3.8                 7\n",
       "4           208         0.572833        2.416667        4.6                 7\n",
       "5           207         0.510000        1.666667        4.0                 3\n",
       "6           202         0.490119        1.428571        4.2                 1\n",
       "7           204         0.410417        2.777778        3.9                 5\n",
       "8           206         0.409917        2.000000        3.7                 2\n",
       "9           210         0.358881        2.571429        4.2                 2"
      ]
     },
     "execution_count": 116,
     "metadata": {},
     "output_type": "execute_result"
    }
   ],
   "source": [
    "# 1. Normalizar as métricas entre 0 e 1 (inversão para atrasos baixos serem melhores)\n",
    "desempenho_motoristas['Atraso_Score'] = 1 - (desempenho_motoristas['Atraso_Medio_h'] / desempenho_motoristas['Atraso_Medio_h'].max())\n",
    "desempenho_motoristas['Avaliacao_Score'] = desempenho_motoristas['Avaliacao'] / desempenho_motoristas['Avaliacao'].max()\n",
    "desempenho_motoristas['Experiencia_Score'] = desempenho_motoristas['Experiencia_anos'] / desempenho_motoristas['Experiencia_anos'].max()\n",
    "\n",
    "# 2. Atribuir pesos para cada métrica (ajuste conforme importância)\n",
    "peso_atraso = 0.4\n",
    "peso_avaliacao = 0.3\n",
    "peso_experiencia = 0.3\n",
    "\n",
    "# 3. Calcular a pontuação final\n",
    "desempenho_motoristas['Pontuacao_Final'] = (\n",
    "    desempenho_motoristas['Atraso_Score'] * peso_atraso +\n",
    "    desempenho_motoristas['Avaliacao_Score'] * peso_avaliacao +\n",
    "    desempenho_motoristas['Experiencia_Score'] * peso_experiencia\n",
    ")\n",
    "\n",
    "# 4. Ordenar os motoristas pelo ranking\n",
    "ranking_motoristas = desempenho_motoristas.sort_values(by='Pontuacao_Final', ascending=False).reset_index(drop=True)\n",
    "\n",
    "# Exibir o ranking final\n",
    "ranking_motoristas[['Motorista_ID', 'Pontuacao_Final', 'Atraso_Medio_h', 'Avaliacao', 'Experiencia_anos']]"
   ]
  },
  {
   "cell_type": "code",
   "execution_count": 117,
   "metadata": {},
   "outputs": [
    {
     "data": {
      "text/plain": [
       "array(['Van', 'Caminhão', 'Moto'], dtype=object)"
      ]
     },
     "execution_count": 117,
     "metadata": {},
     "output_type": "execute_result"
    }
   ],
   "source": [
    "# Verificando valores únicos coluna 'Veiculo'\n",
    "historico_entregas['Veiculo'].unique()"
   ]
  },
  {
   "cell_type": "code",
   "execution_count": 118,
   "metadata": {},
   "outputs": [
    {
     "data": {
      "text/plain": [
       "Motorista_ID\n",
       "201    14\n",
       "205    12\n",
       "203    12\n",
       "208    12\n",
       "206    10\n",
       "204     9\n",
       "207     9\n",
       "209     8\n",
       "210     7\n",
       "202     7\n",
       "Name: count, dtype: int64"
      ]
     },
     "execution_count": 118,
     "metadata": {},
     "output_type": "execute_result"
    }
   ],
   "source": [
    "# Quantidade de entregas por 'Motorista_ID'\n",
    "historico_entregas['Motorista_ID'].value_counts()"
   ]
  },
  {
   "cell_type": "code",
   "execution_count": 119,
   "metadata": {},
   "outputs": [
    {
     "data": {
      "text/plain": [
       "Index(['Cliente_ID', 'Nome', 'Localizacao', 'Tipo_Cliente'], dtype='object')"
      ]
     },
     "execution_count": 119,
     "metadata": {},
     "output_type": "execute_result"
    }
   ],
   "source": [
    "# Verificar todas as colunas\n",
    "clientes.columns"
   ]
  },
  {
   "cell_type": "code",
   "execution_count": 120,
   "metadata": {},
   "outputs": [
    {
     "data": {
      "text/plain": [
       "Tipo_Cliente     Localizacao        \n",
       "Pessoa Física    Belo Horizonte - MG     7\n",
       "                 Rio de Janeiro - RJ     4\n",
       "                 São Paulo - SP          4\n",
       "Pessoa Jurídica  Belo Horizonte - MG    13\n",
       "                 Rio de Janeiro - RJ    11\n",
       "                 São Paulo - SP         11\n",
       "dtype: int64"
      ]
     },
     "execution_count": 120,
     "metadata": {},
     "output_type": "execute_result"
    }
   ],
   "source": [
    "# Agrupar por tipo de cliente e localização\n",
    "resultado = clientes.groupby(['Tipo_Cliente', 'Localizacao']).size() # Quantidade de tipo de cliente\n",
    "resultado"
   ]
  },
  {
   "cell_type": "code",
   "execution_count": 121,
   "metadata": {},
   "outputs": [
    {
     "name": "stdout",
     "output_type": "stream",
     "text": [
      "   Motorista_ID  avaliacao\n",
      "0           205        4.8\n",
      "1           206        3.7\n"
     ]
    }
   ],
   "source": [
    "# Criar um dicionário\n",
    "avaliacao = motorista.set_index('Motorista_ID')['Avaliacao'].to_dict()\n",
    "\n",
    "# Mapear as avaliações para a coluna 'avaliacao' no DataFrame historico_entregas\n",
    "historico_entregas['avaliacao'] = historico_entregas['Motorista_ID'].map(avaliacao)\n",
    "\n",
    "# Exibir resultado\n",
    "print(historico_entregas[['Motorista_ID', 'avaliacao']].head(2))\n"
   ]
  },
  {
   "cell_type": "code",
   "execution_count": 122,
   "metadata": {},
   "outputs": [
    {
     "name": "stdout",
     "output_type": "stream",
     "text": [
      "Avaliação por Motorista_ID\n",
      "201    [3.7]\n",
      "202    [4.2]\n",
      "203    [3.8]\n",
      "204    [3.9]\n",
      "205    [4.8]\n",
      "206    [3.7]\n",
      "207    [4.0]\n",
      "208    [4.6]\n",
      "209    [3.8]\n",
      "210    [4.2]\n",
      "Name: avaliacao, dtype: object\n"
     ]
    }
   ],
   "source": [
    "# Agrupar por Motorista_ID \n",
    "motorista_avaliacao = historico_entregas.groupby('Motorista_ID')['avaliacao'].unique()\n",
    "\n",
    "# Exibir resultado\n",
    "print(f'Avaliação por {motorista_avaliacao}')"
   ]
  },
  {
   "cell_type": "code",
   "execution_count": 123,
   "metadata": {},
   "outputs": [
    {
     "name": "stdout",
     "output_type": "stream",
     "text": [
      "Tempo de experiência por Motorista_ID\n",
      "201    [9]\n",
      "202    [1]\n",
      "203    [7]\n",
      "204    [5]\n",
      "205    [5]\n",
      "206    [2]\n",
      "207    [3]\n",
      "208    [7]\n",
      "209    [6]\n",
      "210    [2]\n",
      "Name: Experiencia_anos, dtype: object\n"
     ]
    }
   ],
   "source": [
    "# Agrupar por Motorista_ID \n",
    "motorista_experiencia = motorista.groupby('Motorista_ID')['Experiencia_anos'].unique()\n",
    "\n",
    "# Exibir resultado\n",
    "print(f'Tempo de experiência por {motorista_experiencia}')"
   ]
  },
  {
   "cell_type": "code",
   "execution_count": 124,
   "metadata": {},
   "outputs": [
    {
     "data": {
      "text/html": [
       "<div>\n",
       "<style scoped>\n",
       "    .dataframe tbody tr th:only-of-type {\n",
       "        vertical-align: middle;\n",
       "    }\n",
       "\n",
       "    .dataframe tbody tr th {\n",
       "        vertical-align: top;\n",
       "    }\n",
       "\n",
       "    .dataframe thead th {\n",
       "        text-align: right;\n",
       "    }\n",
       "</style>\n",
       "<table border=\"1\" class=\"dataframe\">\n",
       "  <thead>\n",
       "    <tr style=\"text-align: right;\">\n",
       "      <th></th>\n",
       "      <th>Avaliações</th>\n",
       "      <th>Experiência (anos)</th>\n",
       "    </tr>\n",
       "    <tr>\n",
       "      <th>Motorista_ID</th>\n",
       "      <th></th>\n",
       "      <th></th>\n",
       "    </tr>\n",
       "  </thead>\n",
       "  <tbody>\n",
       "    <tr>\n",
       "      <th>201</th>\n",
       "      <td>[3.7]</td>\n",
       "      <td>[9]</td>\n",
       "    </tr>\n",
       "    <tr>\n",
       "      <th>202</th>\n",
       "      <td>[4.2]</td>\n",
       "      <td>[1]</td>\n",
       "    </tr>\n",
       "    <tr>\n",
       "      <th>203</th>\n",
       "      <td>[3.8]</td>\n",
       "      <td>[7]</td>\n",
       "    </tr>\n",
       "    <tr>\n",
       "      <th>204</th>\n",
       "      <td>[3.9]</td>\n",
       "      <td>[5]</td>\n",
       "    </tr>\n",
       "    <tr>\n",
       "      <th>205</th>\n",
       "      <td>[4.8]</td>\n",
       "      <td>[5]</td>\n",
       "    </tr>\n",
       "    <tr>\n",
       "      <th>206</th>\n",
       "      <td>[3.7]</td>\n",
       "      <td>[2]</td>\n",
       "    </tr>\n",
       "    <tr>\n",
       "      <th>207</th>\n",
       "      <td>[4.0]</td>\n",
       "      <td>[3]</td>\n",
       "    </tr>\n",
       "    <tr>\n",
       "      <th>208</th>\n",
       "      <td>[4.6]</td>\n",
       "      <td>[7]</td>\n",
       "    </tr>\n",
       "    <tr>\n",
       "      <th>209</th>\n",
       "      <td>[3.8]</td>\n",
       "      <td>[6]</td>\n",
       "    </tr>\n",
       "    <tr>\n",
       "      <th>210</th>\n",
       "      <td>[4.2]</td>\n",
       "      <td>[2]</td>\n",
       "    </tr>\n",
       "  </tbody>\n",
       "</table>\n",
       "</div>"
      ],
      "text/plain": [
       "             Avaliações Experiência (anos)\n",
       "Motorista_ID                              \n",
       "201               [3.7]                [9]\n",
       "202               [4.2]                [1]\n",
       "203               [3.8]                [7]\n",
       "204               [3.9]                [5]\n",
       "205               [4.8]                [5]\n",
       "206               [3.7]                [2]\n",
       "207               [4.0]                [3]\n",
       "208               [4.6]                [7]\n",
       "209               [3.8]                [6]\n",
       "210               [4.2]                [2]"
      ]
     },
     "execution_count": 124,
     "metadata": {},
     "output_type": "execute_result"
    }
   ],
   "source": [
    "# Combinando os resultados em um DataFrame\n",
    "resultados = pd.DataFrame({\n",
    "    'Avaliações': motorista_avaliacao,\n",
    "    'Experiência (anos)': motorista_experiencia\n",
    "})\n",
    "\n",
    "# Exibindo o resultado\n",
    "resultados"
   ]
  }
 ],
 "metadata": {
  "kernelspec": {
   "display_name": "Python 3",
   "language": "python",
   "name": "python3"
  },
  "language_info": {
   "codemirror_mode": {
    "name": "ipython",
    "version": 3
   },
   "file_extension": ".py",
   "mimetype": "text/x-python",
   "name": "python",
   "nbconvert_exporter": "python",
   "pygments_lexer": "ipython3",
   "version": "3.12.2"
  }
 },
 "nbformat": 4,
 "nbformat_minor": 2
}
